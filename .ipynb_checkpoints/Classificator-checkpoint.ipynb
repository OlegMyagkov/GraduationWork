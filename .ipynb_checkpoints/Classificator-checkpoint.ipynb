{
 "cells": [
  {
   "cell_type": "code",
   "execution_count": 1,
   "id": "46d5e9c4",
   "metadata": {},
   "outputs": [],
   "source": [
    "import os\n",
    "import cv2\n",
    "import numpy as np\n",
    "import tensorflow as tf\n",
    "from tensorflow import keras\n",
    "from tensorflow.keras import layers\n",
    "from tensorflow.keras.models import Sequential\n",
    "from tensorflow.keras.layers import Conv2D, MaxPooling2D, Dense, Flatten, Dropout\n",
    "from tensorflow.keras import utils\n",
    "from tensorflow.keras.preprocessing import image\n",
    "from tensorflow.keras.preprocessing import image_dataset_from_directory\n",
    "from tensorflow.keras.models import load_model\n",
    "from keras.layers import Dense, Conv2D, MaxPool2D , Flatten\n",
    "import matplotlib.pyplot as plt\n",
    "from sklearn.metrics import confusion_matrix, ConfusionMatrixDisplay\n",
    "import pandas as pd\n",
    "%matplotlib inline "
   ]
  },
  {
   "cell_type": "code",
   "execution_count": 2,
   "id": "2f4e03cd",
   "metadata": {},
   "outputs": [],
   "source": [
    "batch_size=30\n",
    "image_size=(128, 128)"
   ]
  },
  {
   "cell_type": "markdown",
   "id": "dc85032c",
   "metadata": {},
   "source": [
    "# Набор данных для обучения"
   ]
  },
  {
   "cell_type": "code",
   "execution_count": 3,
   "id": "7b9888e4",
   "metadata": {},
   "outputs": [
    {
     "name": "stdout",
     "output_type": "stream",
     "text": [
      "Found 6243 files belonging to 208 classes.\n",
      "Using 5619 files for training.\n"
     ]
    }
   ],
   "source": [
    "train_dataset = image_dataset_from_directory('./traning_set',\n",
    "                                             subset='training',\n",
    "                                             seed=42,\n",
    "                                             validation_split=0.1,\n",
    "                                             batch_size=batch_size,\n",
    "                                             image_size=image_size,\n",
    "                                             color_mode=\"grayscale\")"
   ]
  },
  {
   "cell_type": "markdown",
   "id": "0312495e",
   "metadata": {},
   "source": [
    "# Набор данных для валидации"
   ]
  },
  {
   "cell_type": "code",
   "execution_count": 4,
   "id": "9ec92d70",
   "metadata": {
    "scrolled": true
   },
   "outputs": [
    {
     "data": {
      "text/plain": [
       "<BatchDataset element_spec=(TensorSpec(shape=(None, 128, 128, 1), dtype=tf.float32, name=None), TensorSpec(shape=(None,), dtype=tf.int32, name=None))>"
      ]
     },
     "execution_count": 4,
     "metadata": {},
     "output_type": "execute_result"
    }
   ],
   "source": [
    "train_dataset"
   ]
  },
  {
   "cell_type": "code",
   "execution_count": 5,
   "id": "7f89d38a",
   "metadata": {},
   "outputs": [
    {
     "name": "stdout",
     "output_type": "stream",
     "text": [
      "Found 6243 files belonging to 208 classes.\n",
      "Using 624 files for validation.\n"
     ]
    }
   ],
   "source": [
    "validation_dataset = image_dataset_from_directory('./traning_set',\n",
    "                                             subset='validation',\n",
    "                                             seed=42,\n",
    "                                             validation_split=0.1,\n",
    "                                             batch_size=batch_size,\n",
    "                                             image_size=image_size,\n",
    "                                             color_mode=\"grayscale\")"
   ]
  },
  {
   "cell_type": "code",
   "execution_count": 6,
   "id": "248cfa78",
   "metadata": {},
   "outputs": [
    {
     "data": {
      "text/plain": [
       "<function list.index(value, start=0, stop=9223372036854775807, /)>"
      ]
     },
     "execution_count": 6,
     "metadata": {},
     "output_type": "execute_result"
    }
   ],
   "source": [
    "class_names = train_dataset.class_names\n",
    "\n"
   ]
  },
  {
   "cell_type": "code",
   "execution_count": 7,
   "id": "a0db5334",
   "metadata": {},
   "outputs": [
    {
     "data": {
      "text/plain": [
       "<BatchDataset element_spec=(TensorSpec(shape=(None, 128, 128, 1), dtype=tf.float32, name=None), TensorSpec(shape=(None,), dtype=tf.int32, name=None))>"
      ]
     },
     "execution_count": 7,
     "metadata": {},
     "output_type": "execute_result"
    }
   ],
   "source": [
    "train_dataset"
   ]
  },
  {
   "cell_type": "code",
   "execution_count": 8,
   "id": "c48cf65e",
   "metadata": {},
   "outputs": [],
   "source": [
    "import csv \n",
    "\n",
    "with open(\"class_names.csv\", \"w\", newline='') as file:\n",
    "    csv.writer(file).writerow(class_names)"
   ]
  },
  {
   "cell_type": "markdown",
   "id": "2112fa33",
   "metadata": {},
   "source": [
    "# Набор данных для тестирования"
   ]
  },
  {
   "cell_type": "code",
   "execution_count": 9,
   "id": "ce926a29",
   "metadata": {},
   "outputs": [
    {
     "name": "stdout",
     "output_type": "stream",
     "text": [
      "Found 627 files belonging to 208 classes.\n"
     ]
    }
   ],
   "source": [
    "test_dataset = image_dataset_from_directory('./test_set',\n",
    "                                             seed=42, \n",
    "                                            batch_size=batch_size,\n",
    "                                             image_size=image_size,\n",
    "                                             color_mode=\"grayscale\")\n"
   ]
  },
  {
   "cell_type": "code",
   "execution_count": 10,
   "id": "fcdcb203",
   "metadata": {},
   "outputs": [
    {
     "data": {
      "text/plain": [
       "['AN21',\n",
       " 'AN211',\n",
       " 'AN22',\n",
       " 'AN221',\n",
       " 'AN222',\n",
       " 'AN31',\n",
       " 'AN311',\n",
       " 'AN32',\n",
       " 'AN321',\n",
       " 'AN33',\n",
       " 'AND2',\n",
       " 'AND3',\n",
       " 'AND4',\n",
       " 'AND5',\n",
       " 'AND6',\n",
       " 'ANTENNACELL',\n",
       " 'ANTENNACELLNP2',\n",
       " 'AO21',\n",
       " 'AO211',\n",
       " 'AO22',\n",
       " 'AO221',\n",
       " 'AO222',\n",
       " 'AO31',\n",
       " 'AO311',\n",
       " 'AO32',\n",
       " 'AO321',\n",
       " 'AO33',\n",
       " 'BTH',\n",
       " 'BTL',\n",
       " 'BU',\n",
       " 'CAG',\n",
       " 'DFF',\n",
       " 'DFFQ',\n",
       " 'DFFR',\n",
       " 'DFFRQ',\n",
       " 'DFFRS',\n",
       " 'DFFRSQ',\n",
       " 'DFFS',\n",
       " 'DFFSQ',\n",
       " 'DFR',\n",
       " 'DFR2',\n",
       " 'DFR4',\n",
       " 'DFR8',\n",
       " 'DFRQ',\n",
       " 'DFRQ2',\n",
       " 'DFRQ4',\n",
       " 'DFRQ8',\n",
       " 'DFRR',\n",
       " 'DFRR2',\n",
       " 'DFRR4',\n",
       " 'DFRR8',\n",
       " 'DFRRQ',\n",
       " 'DFRRQ2',\n",
       " 'DFRRQ4',\n",
       " 'DFRRQ8',\n",
       " 'DFRRS',\n",
       " 'DFRRSQ',\n",
       " 'DFRS',\n",
       " 'DFRSQ',\n",
       " 'DLH',\n",
       " 'DLHQ',\n",
       " 'DLHR',\n",
       " 'DLHRQ',\n",
       " 'DLHRS',\n",
       " 'DLHRSQ',\n",
       " 'DLHRT',\n",
       " 'DLHS',\n",
       " 'DLHSQ',\n",
       " 'DLHST',\n",
       " 'DLHT',\n",
       " 'DLL',\n",
       " 'DLLQ',\n",
       " 'DLLR',\n",
       " 'DLLRQ',\n",
       " 'DLLRS',\n",
       " 'DLLRSQ',\n",
       " 'DLLRT',\n",
       " 'DLLRT2',\n",
       " 'DLLRT4',\n",
       " 'DLLRT8',\n",
       " 'DLLS',\n",
       " 'DLLSQ',\n",
       " 'DLLST',\n",
       " 'DLLT',\n",
       " 'DLLT2',\n",
       " 'DLLT4',\n",
       " 'DLLT8',\n",
       " 'EN2',\n",
       " 'EN3',\n",
       " 'EO2',\n",
       " 'EO3',\n",
       " 'FA',\n",
       " 'FCNE',\n",
       " 'FEED',\n",
       " 'HA',\n",
       " 'IN',\n",
       " 'ITH',\n",
       " 'ITL',\n",
       " 'LGCN',\n",
       " 'LGCP',\n",
       " 'LOGIC0',\n",
       " 'LOGIC1',\n",
       " 'LSGCN',\n",
       " 'LSGCP',\n",
       " 'LSOGCN',\n",
       " 'LSOGCP',\n",
       " 'MPROBE',\n",
       " 'MPROBEBU',\n",
       " 'MU2',\n",
       " 'MU2I',\n",
       " 'MU4',\n",
       " 'MU4I',\n",
       " 'NA2',\n",
       " 'NA22',\n",
       " 'NA2I1',\n",
       " 'NA3',\n",
       " 'NA3I1',\n",
       " 'NA3I2',\n",
       " 'NA4',\n",
       " 'NA4I1',\n",
       " 'NA4I2',\n",
       " 'NA4I3',\n",
       " 'NA5',\n",
       " 'NA5I1',\n",
       " 'NA5I2',\n",
       " 'NA5I3',\n",
       " 'NA5I4',\n",
       " 'NA6',\n",
       " 'NA6I1',\n",
       " 'NA6I2',\n",
       " 'NA6I3',\n",
       " 'NA6I4',\n",
       " 'NA6I5',\n",
       " 'NO2',\n",
       " 'NO22',\n",
       " 'NO2I1',\n",
       " 'NO3',\n",
       " 'NO3I1',\n",
       " 'NO3I2',\n",
       " 'NO4',\n",
       " 'NO4I1',\n",
       " 'NO4I2',\n",
       " 'NO4I3',\n",
       " 'NO5',\n",
       " 'NO5I1',\n",
       " 'NO5I2',\n",
       " 'NO5I3',\n",
       " 'NO5I4',\n",
       " 'NO6',\n",
       " 'NO6I1',\n",
       " 'NO6I2',\n",
       " 'NO6I3',\n",
       " 'NO6I4',\n",
       " 'NO6I5',\n",
       " 'OA21',\n",
       " 'OA211',\n",
       " 'OA22',\n",
       " 'OA221',\n",
       " 'OA222',\n",
       " 'OA31',\n",
       " 'OA311',\n",
       " 'OA32',\n",
       " 'OA321',\n",
       " 'OA33',\n",
       " 'ON21',\n",
       " 'ON211',\n",
       " 'ON22',\n",
       " 'ON221',\n",
       " 'ON222',\n",
       " 'ON31',\n",
       " 'ON311',\n",
       " 'ON32',\n",
       " 'ON321',\n",
       " 'ON33',\n",
       " 'OR2',\n",
       " 'OR3',\n",
       " 'OR4',\n",
       " 'OR5',\n",
       " 'OR6',\n",
       " 'SDFF',\n",
       " 'SDFFQ',\n",
       " 'SDFFR',\n",
       " 'SDFFRQ',\n",
       " 'SDFFRS',\n",
       " 'SDFFRSQ',\n",
       " 'SDFFS',\n",
       " 'SDFFSQ',\n",
       " 'SDFR',\n",
       " 'SDFR2',\n",
       " 'SDFR4',\n",
       " 'SDFR8',\n",
       " 'SDFRQ',\n",
       " 'SDFRQ2',\n",
       " 'SDFRQ4',\n",
       " 'SDFRQ8',\n",
       " 'SDFRR',\n",
       " 'SDFRR2',\n",
       " 'SDFRR4',\n",
       " 'SDFRR8',\n",
       " 'SDFRRQ',\n",
       " 'SDFRRQ2',\n",
       " 'SDFRRQ4',\n",
       " 'SDFRRQ8',\n",
       " 'SDFRRS',\n",
       " 'SDFRRSQ',\n",
       " 'SDFRS',\n",
       " 'SDFRSQ',\n",
       " 'SIGNALHOLD']"
      ]
     },
     "execution_count": 10,
     "metadata": {},
     "output_type": "execute_result"
    }
   ],
   "source": [
    "test_dataset.class_names"
   ]
  },
  {
   "cell_type": "code",
   "execution_count": 11,
   "id": "0da5d16e",
   "metadata": {},
   "outputs": [],
   "source": [
    "AUTOTUNE = tf.data.experimental.AUTOTUNE\n",
    "\n",
    "train_dataset = train_dataset.prefetch(buffer_size=AUTOTUNE)\n",
    "validation_dataset = validation_dataset.prefetch(buffer_size=AUTOTUNE)\n",
    "test_dataset = test_dataset.prefetch(buffer_size=AUTOTUNE)"
   ]
  },
  {
   "cell_type": "markdown",
   "id": "2dda35b8",
   "metadata": {},
   "source": [
    "# Модель из интернета взята для сравнения"
   ]
  },
  {
   "cell_type": "code",
   "execution_count": 12,
   "id": "20fa5078",
   "metadata": {},
   "outputs": [],
   "source": [
    "# Создаем последовательную модель\n",
    "model = Sequential()\n",
    "# Сверточный слой\n",
    "model.add(Conv2D(16, (5, 5), padding='same', \n",
    "                 input_shape=(128, 128, 1), activation='relu'))\n",
    "# Слой подвыборки\n",
    "model.add(MaxPooling2D(pool_size=(2, 2)))\n",
    "# Сверточный слой\n",
    "model.add(Conv2D(32, (5, 5), activation='relu', padding='same'))\n",
    "# Слой подвыборки\n",
    "model.add(MaxPooling2D(pool_size=(2, 2)))\n",
    "# Сверточный слой\n",
    "model.add(Conv2D(64, (5, 5), activation='relu', padding='same'))\n",
    "# Слой подвыборки\n",
    "model.add(MaxPooling2D(pool_size=(2, 2)))\n",
    "# Сверточный слой\n",
    "model.add(Conv2D(128, (5, 5), activation='relu', padding='same'))\n",
    "# Слой подвыборки\n",
    "model.add(MaxPooling2D(pool_size=(2, 2)))\n",
    "# Полносвязная часть нейронной сети для классификации\n",
    "model.add(Flatten())\n",
    "model.add(Dense(1024, activation='relu'))\n",
    "model.add(Dropout(0.2))\n",
    "model.add(Dense(256, activation='relu'))\n",
    "model.add(Dropout(0.2))\n",
    "# Выходной слой, 208 нейронов по количеству классов\n",
    "model.add(Dense(208, activation='softmax'))"
   ]
  },
  {
   "cell_type": "code",
   "execution_count": 13,
   "id": "e4c5cfe4",
   "metadata": {},
   "outputs": [],
   "source": [
    "model.compile(loss='sparse_categorical_crossentropy',\n",
    "              optimizer=\"adam\",\n",
    "              metrics=['accuracy'])"
   ]
  },
  {
   "cell_type": "code",
   "execution_count": 14,
   "id": "9c5a4305",
   "metadata": {},
   "outputs": [
    {
     "name": "stdout",
     "output_type": "stream",
     "text": [
      "Epoch 1/15\n",
      "188/188 - 249s - loss: 5.7551 - accuracy: 0.0304 - val_loss: 4.0619 - val_accuracy: 0.0753 - 249s/epoch - 1s/step\n",
      "Epoch 2/15\n",
      "188/188 - 248s - loss: 2.2571 - accuracy: 0.3951 - val_loss: 0.6777 - val_accuracy: 0.7612 - 248s/epoch - 1s/step\n",
      "Epoch 3/15\n",
      "188/188 - 243s - loss: 0.4378 - accuracy: 0.8514 - val_loss: 0.2431 - val_accuracy: 0.9263 - 243s/epoch - 1s/step\n",
      "Epoch 4/15\n",
      "188/188 - 236s - loss: 0.1657 - accuracy: 0.9482 - val_loss: 0.1200 - val_accuracy: 0.9712 - 236s/epoch - 1s/step\n",
      "Epoch 5/15\n",
      "188/188 - 245s - loss: 0.0620 - accuracy: 0.9852 - val_loss: 0.0588 - val_accuracy: 0.9856 - 245s/epoch - 1s/step\n",
      "Epoch 6/15\n",
      "188/188 - 246s - loss: 0.1066 - accuracy: 0.9749 - val_loss: 0.0254 - val_accuracy: 0.9936 - 246s/epoch - 1s/step\n",
      "Epoch 7/15\n",
      "188/188 - 244s - loss: 0.0433 - accuracy: 0.9893 - val_loss: 0.0375 - val_accuracy: 0.9920 - 244s/epoch - 1s/step\n",
      "Epoch 8/15\n",
      "188/188 - 230s - loss: 0.0493 - accuracy: 0.9883 - val_loss: 0.0135 - val_accuracy: 0.9968 - 230s/epoch - 1s/step\n",
      "Epoch 9/15\n",
      "188/188 - 234s - loss: 0.0885 - accuracy: 0.9772 - val_loss: 0.0539 - val_accuracy: 0.9888 - 234s/epoch - 1s/step\n",
      "Epoch 10/15\n",
      "188/188 - 239s - loss: 0.0745 - accuracy: 0.9854 - val_loss: 0.0078 - val_accuracy: 0.9968 - 239s/epoch - 1s/step\n",
      "Epoch 11/15\n",
      "188/188 - 234s - loss: 0.0388 - accuracy: 0.9916 - val_loss: 0.0526 - val_accuracy: 0.9840 - 234s/epoch - 1s/step\n",
      "Epoch 12/15\n",
      "188/188 - 188s - loss: 0.0599 - accuracy: 0.9865 - val_loss: 0.2797 - val_accuracy: 0.9471 - 188s/epoch - 998ms/step\n",
      "Epoch 13/15\n",
      "188/188 - 188s - loss: 0.1376 - accuracy: 0.9689 - val_loss: 0.0345 - val_accuracy: 0.9904 - 188s/epoch - 1s/step\n",
      "Epoch 14/15\n",
      "188/188 - 205s - loss: 0.0698 - accuracy: 0.9879 - val_loss: 0.0019 - val_accuracy: 0.9984 - 205s/epoch - 1s/step\n",
      "Epoch 15/15\n",
      "188/188 - 211s - loss: 0.0634 - accuracy: 0.9842 - val_loss: 0.0412 - val_accuracy: 0.9920 - 211s/epoch - 1s/step\n"
     ]
    }
   ],
   "source": [
    "history = model.fit(train_dataset, \n",
    "                    validation_data=validation_dataset,\n",
    "                    epochs=15,\n",
    "                    verbose=2)"
   ]
  },
  {
   "cell_type": "code",
   "execution_count": 15,
   "id": "d65857d1",
   "metadata": {
    "scrolled": false
   },
   "outputs": [
    {
     "name": "stdout",
     "output_type": "stream",
     "text": [
      "21/21 [==============================] - 9s 328ms/step - loss: 0.0390 - accuracy: 0.9904\n"
     ]
    }
   ],
   "source": [
    "scores = model.evaluate(test_dataset, verbose=1)"
   ]
  },
  {
   "cell_type": "code",
   "execution_count": 16,
   "id": "40060fc6",
   "metadata": {
    "scrolled": true
   },
   "outputs": [
    {
     "name": "stdout",
     "output_type": "stream",
     "text": [
      "Доля верных ответов на тестовых данных, в процентах: 99.0431\n"
     ]
    }
   ],
   "source": [
    "print(\"Доля верных ответов на тестовых данных, в процентах:\", round(scores[1] * 100, 4))"
   ]
  },
  {
   "cell_type": "code",
   "execution_count": 17,
   "id": "91dd31ee",
   "metadata": {
    "scrolled": true
   },
   "outputs": [
    {
     "data": {
      "image/png": "[encoded data removed]",
      "text/plain": [
       "<Figure size 432x288 with 1 Axes>"
      ]
     },
     "metadata": {
      "needs_background": "light"
     },
     "output_type": "display_data"
    }
   ],
   "source": [
    "plt.plot(history.history['accuracy'], \n",
    "         label='Доля верных ответов на обучающем наборе')\n",
    "plt.plot(history.history['val_accuracy'], \n",
    "         label='Доля верных ответов на проверочном наборе')\n",
    "plt.xlabel('Эпоха обучения')\n",
    "plt.ylabel('Доля верных ответов')\n",
    "plt.legend()\n",
    "plt.show()"
   ]
  },
  {
   "cell_type": "code",
   "execution_count": 18,
   "id": "76b992ca",
   "metadata": {
    "scrolled": true
   },
   "outputs": [
    {
     "data": {
      "image/png": "[encoded data removed]",
      "text/plain": [
       "<Figure size 432x288 with 1 Axes>"
      ]
     },
     "metadata": {
      "needs_background": "light"
     },
     "output_type": "display_data"
    }
   ],
   "source": [
    "plt.plot(history.history['loss'], \n",
    "         label='Ошибка на обучающем наборе')\n",
    "plt.plot(history.history['val_loss'], \n",
    "         label='Ошибка на проверочном наборе')\n",
    "plt.xlabel('Эпоха обучения')\n",
    "plt.ylabel('Ошибка')\n",
    "plt.legend()\n",
    "plt.plot()\n",
    "plt.show()"
   ]
  },
  {
   "cell_type": "code",
   "execution_count": 19,
   "id": "e0baf024",
   "metadata": {},
   "outputs": [],
   "source": [
    "model.save(\"Symbol_Check_model_internet.h5\")"
   ]
  },
  {
   "cell_type": "markdown",
   "id": "3e2163d7",
   "metadata": {},
   "source": [
    "# простейший вариант нейросети"
   ]
  },
  {
   "cell_type": "code",
   "execution_count": 20,
   "id": "d3c9330f",
   "metadata": {},
   "outputs": [
    {
     "name": "stdout",
     "output_type": "stream",
     "text": [
      "Model: \"sequential_1\"\n",
      "_________________________________________________________________\n",
      " Layer (type)                Output Shape              Param #   \n",
      "=================================================================\n",
      " conv2d_4 (Conv2D)           (None, 128, 128, 16)      416       \n",
      "                                                                 \n",
      " max_pooling2d_4 (MaxPooling  (None, 64, 64, 16)       0         \n",
      " 2D)                                                             \n",
      "                                                                 \n",
      " flatten_1 (Flatten)         (None, 65536)             0         \n",
      "                                                                 \n",
      " dense_3 (Dense)             (None, 256)               16777472  \n",
      "                                                                 \n",
      " dense_4 (Dense)             (None, 208)               53456     \n",
      "                                                                 \n",
      "=================================================================\n",
      "Total params: 16,831,344\n",
      "Trainable params: 16,831,344\n",
      "Non-trainable params: 0\n",
      "_________________________________________________________________\n"
     ]
    }
   ],
   "source": [
    "# Создаем последовательную модель\n",
    "model_simple = Sequential()\n",
    "# Сверточный слой\n",
    "model_simple.add(Conv2D(16, (5, 5), padding='same', \n",
    "                 input_shape=(128, 128, 1), activation='relu'))\n",
    "# Слой подвыборки\n",
    "model_simple.add(MaxPooling2D(pool_size=(2, 2)))\n",
    "# Полносвязная часть нейронной сети для классификации\n",
    "model_simple.add(Flatten())\n",
    "model_simple.add(Dense(256, activation='relu'))\n",
    "# Выходной слой, 208 нейронов по количеству классов\n",
    "model_simple.add(Dense(208, activation='softmax'))\n",
    "model_simple.summary()"
   ]
  },
  {
   "cell_type": "code",
   "execution_count": 21,
   "id": "d7a2f7eb",
   "metadata": {},
   "outputs": [],
   "source": [
    "model_simple.compile(loss='sparse_categorical_crossentropy',\n",
    "              optimizer=\"adam\",\n",
    "              metrics=['accuracy'])"
   ]
  },
  {
   "cell_type": "code",
   "execution_count": 22,
   "id": "afa6aeee",
   "metadata": {
    "scrolled": true
   },
   "outputs": [
    {
     "name": "stdout",
     "output_type": "stream",
     "text": [
      "Epoch 1/15\n",
      "188/188 - 59s - loss: 155.3005 - accuracy: 0.4677 - val_loss: 0.8702 - val_accuracy: 0.7468 - 59s/epoch - 315ms/step\n",
      "Epoch 2/15\n",
      "188/188 - 60s - loss: 0.4568 - accuracy: 0.8779 - val_loss: 0.3557 - val_accuracy: 0.8926 - 60s/epoch - 317ms/step\n",
      "Epoch 3/15\n",
      "188/188 - 56s - loss: 0.1880 - accuracy: 0.9537 - val_loss: 0.2077 - val_accuracy: 0.9423 - 56s/epoch - 300ms/step\n",
      "Epoch 4/15\n",
      "188/188 - 57s - loss: 0.1022 - accuracy: 0.9767 - val_loss: 0.2010 - val_accuracy: 0.9471 - 57s/epoch - 303ms/step\n",
      "Epoch 5/15\n",
      "188/188 - 56s - loss: 0.0577 - accuracy: 0.9881 - val_loss: 0.1171 - val_accuracy: 0.9696 - 56s/epoch - 298ms/step\n",
      "Epoch 6/15\n",
      "188/188 - 56s - loss: 0.0625 - accuracy: 0.9890 - val_loss: 0.1757 - val_accuracy: 0.9631 - 56s/epoch - 300ms/step\n",
      "Epoch 7/15\n",
      "188/188 - 59s - loss: 0.0157 - accuracy: 0.9966 - val_loss: 0.0758 - val_accuracy: 0.9663 - 59s/epoch - 315ms/step\n",
      "Epoch 8/15\n",
      "188/188 - 71s - loss: 0.0292 - accuracy: 0.9947 - val_loss: 0.0527 - val_accuracy: 0.9856 - 71s/epoch - 377ms/step\n",
      "Epoch 9/15\n",
      "188/188 - 56s - loss: 0.0559 - accuracy: 0.9939 - val_loss: 0.0734 - val_accuracy: 0.9744 - 56s/epoch - 300ms/step\n",
      "Epoch 10/15\n",
      "188/188 - 56s - loss: 0.0352 - accuracy: 0.9932 - val_loss: 0.0512 - val_accuracy: 0.9840 - 56s/epoch - 299ms/step\n",
      "Epoch 11/15\n",
      "188/188 - 57s - loss: 0.0704 - accuracy: 0.9881 - val_loss: 0.2886 - val_accuracy: 0.9647 - 57s/epoch - 303ms/step\n",
      "Epoch 12/15\n",
      "188/188 - 55s - loss: 0.5400 - accuracy: 0.9352 - val_loss: 0.3054 - val_accuracy: 0.9327 - 55s/epoch - 294ms/step\n",
      "Epoch 13/15\n",
      "188/188 - 57s - loss: 0.2275 - accuracy: 0.9580 - val_loss: 0.2169 - val_accuracy: 0.9535 - 57s/epoch - 302ms/step\n",
      "Epoch 14/15\n",
      "188/188 - 57s - loss: 0.0817 - accuracy: 0.9834 - val_loss: 0.1371 - val_accuracy: 0.9744 - 57s/epoch - 302ms/step\n",
      "Epoch 15/15\n",
      "188/188 - 57s - loss: 0.0346 - accuracy: 0.9936 - val_loss: 0.0431 - val_accuracy: 0.9824 - 57s/epoch - 301ms/step\n"
     ]
    }
   ],
   "source": [
    "history = model_simple.fit(train_dataset, \n",
    "                    validation_data=validation_dataset,\n",
    "                    epochs=15,\n",
    "                    verbose=2)"
   ]
  },
  {
   "cell_type": "code",
   "execution_count": 23,
   "id": "7be9cd53",
   "metadata": {},
   "outputs": [
    {
     "name": "stdout",
     "output_type": "stream",
     "text": [
      "21/21 [==============================] - 2s 86ms/step - loss: 0.0440 - accuracy: 0.9888\n"
     ]
    }
   ],
   "source": [
    "scores = model_simple.evaluate(test_dataset, verbose=1)"
   ]
  },
  {
   "cell_type": "code",
   "execution_count": 24,
   "id": "d937dfc3",
   "metadata": {
    "scrolled": true
   },
   "outputs": [
    {
     "data": {
      "image/png": "[encoded data removed]",
      "text/plain": [
       "<Figure size 432x288 with 1 Axes>"
      ]
     },
     "metadata": {
      "needs_background": "light"
     },
     "output_type": "display_data"
    }
   ],
   "source": [
    "plt.plot(history.history['accuracy'], \n",
    "         label='Доля верных ответов на обучающем наборе')\n",
    "plt.plot(history.history['val_accuracy'], \n",
    "         label='Доля верных ответов на проверочном наборе')\n",
    "plt.xlabel('Эпоха обучения')\n",
    "plt.ylabel('Доля верных ответов')\n",
    "plt.legend()\n",
    "plt.show()"
   ]
  },
  {
   "cell_type": "code",
   "execution_count": 25,
   "id": "e85b4574",
   "metadata": {
    "scrolled": false
   },
   "outputs": [
    {
     "data": {
      "image/png": "[encoded data removed]",
      "text/plain": [
       "<Figure size 432x288 with 1 Axes>"
      ]
     },
     "metadata": {
      "needs_background": "light"
     },
     "output_type": "display_data"
    }
   ],
   "source": [
    "plt.plot(history.history['loss'], \n",
    "         label='Ошибка на обучающем наборе')\n",
    "plt.plot(history.history['val_loss'], \n",
    "         label='Ошибка на проверочном наборе')\n",
    "plt.xlabel('Эпоха обучения')\n",
    "plt.ylabel('Ошибка')\n",
    "plt.legend()\n",
    "plt.show()"
   ]
  },
  {
   "cell_type": "code",
   "execution_count": 26,
   "id": "2bc50726",
   "metadata": {},
   "outputs": [],
   "source": [
    "model.save(\"Symbol_Check_model_simple.h5\")"
   ]
  },
  {
   "cell_type": "markdown",
   "id": "5d0a3bfd",
   "metadata": {},
   "source": [
    "# Увеличим количество фильтров до 32"
   ]
  },
  {
   "cell_type": "code",
   "execution_count": 27,
   "id": "53299bbb",
   "metadata": {
    "scrolled": true
   },
   "outputs": [
    {
     "name": "stdout",
     "output_type": "stream",
     "text": [
      "Model: \"sequential_2\"\n",
      "_________________________________________________________________\n",
      " Layer (type)                Output Shape              Param #   \n",
      "=================================================================\n",
      " conv2d_5 (Conv2D)           (None, 128, 128, 32)      832       \n",
      "                                                                 \n",
      " max_pooling2d_5 (MaxPooling  (None, 64, 64, 32)       0         \n",
      " 2D)                                                             \n",
      "                                                                 \n",
      " flatten_2 (Flatten)         (None, 131072)            0         \n",
      "                                                                 \n",
      " dense_5 (Dense)             (None, 256)               33554688  \n",
      "                                                                 \n",
      " dense_6 (Dense)             (None, 208)               53456     \n",
      "                                                                 \n",
      "=================================================================\n",
      "Total params: 33,608,976\n",
      "Trainable params: 33,608,976\n",
      "Non-trainable params: 0\n",
      "_________________________________________________________________\n"
     ]
    }
   ],
   "source": [
    "# Создаем последовательную модель\n",
    "model_s32 = Sequential()\n",
    "# Сверточный слой\n",
    "model_s32.add(Conv2D(32, (5, 5), padding='same', \n",
    "                 input_shape=(128, 128, 1), activation='relu'))\n",
    "# Слой подвыборки\n",
    "model_s32.add(MaxPooling2D(pool_size=(2, 2)))\n",
    "# Полносвязная часть нейронной сети для классификации\n",
    "model_s32.add(Flatten())\n",
    "model_s32.add(Dense(256, activation='relu'))\n",
    "# Выходной слой, 208 нейронов по количеству классов\n",
    "model_s32.add(Dense(208, activation='softmax'))\n",
    "model_s32.summary()"
   ]
  },
  {
   "cell_type": "code",
   "execution_count": 28,
   "id": "90ef2141",
   "metadata": {},
   "outputs": [],
   "source": [
    "model_s32.compile(loss='sparse_categorical_crossentropy',\n",
    "              optimizer=\"adam\",\n",
    "              metrics=['accuracy'])"
   ]
  },
  {
   "cell_type": "code",
   "execution_count": 29,
   "id": "84b100ed",
   "metadata": {
    "scrolled": false
   },
   "outputs": [
    {
     "name": "stdout",
     "output_type": "stream",
     "text": [
      "Epoch 1/15\n",
      "188/188 - 97s - loss: 242.8113 - accuracy: 0.4013 - val_loss: 1.4705 - val_accuracy: 0.7067 - 97s/epoch - 515ms/step\n",
      "Epoch 2/15\n",
      "188/188 - 95s - loss: 0.8546 - accuracy: 0.8154 - val_loss: 0.6145 - val_accuracy: 0.8462 - 95s/epoch - 506ms/step\n",
      "Epoch 3/15\n",
      "188/188 - 93s - loss: 0.3359 - accuracy: 0.9283 - val_loss: 0.4061 - val_accuracy: 0.9375 - 93s/epoch - 492ms/step\n",
      "Epoch 4/15\n",
      "188/188 - 92s - loss: 0.1394 - accuracy: 0.9769 - val_loss: 0.1175 - val_accuracy: 0.9647 - 92s/epoch - 491ms/step\n",
      "Epoch 5/15\n",
      "188/188 - 92s - loss: 0.1074 - accuracy: 0.9826 - val_loss: 0.0600 - val_accuracy: 0.9840 - 92s/epoch - 490ms/step\n",
      "Epoch 6/15\n",
      "188/188 - 95s - loss: 0.0109 - accuracy: 0.9986 - val_loss: 0.0508 - val_accuracy: 0.9824 - 95s/epoch - 506ms/step\n",
      "Epoch 7/15\n",
      "188/188 - 98s - loss: 0.0254 - accuracy: 0.9970 - val_loss: 0.4169 - val_accuracy: 0.9712 - 98s/epoch - 522ms/step\n",
      "Epoch 8/15\n",
      "188/188 - 93s - loss: 0.0407 - accuracy: 0.9948 - val_loss: 0.0596 - val_accuracy: 0.9840 - 93s/epoch - 496ms/step\n",
      "Epoch 9/15\n",
      "188/188 - 92s - loss: 0.0066 - accuracy: 0.9989 - val_loss: 0.0226 - val_accuracy: 0.9936 - 92s/epoch - 488ms/step\n",
      "Epoch 10/15\n",
      "188/188 - 93s - loss: 7.0910e-04 - accuracy: 1.0000 - val_loss: 0.0182 - val_accuracy: 0.9952 - 93s/epoch - 497ms/step\n",
      "Epoch 11/15\n",
      "188/188 - 97s - loss: 7.9379e-04 - accuracy: 0.9998 - val_loss: 0.0835 - val_accuracy: 0.9856 - 97s/epoch - 517ms/step\n",
      "Epoch 12/15\n",
      "188/188 - 97s - loss: 0.0788 - accuracy: 0.9897 - val_loss: 0.4842 - val_accuracy: 0.9199 - 97s/epoch - 519ms/step\n",
      "Epoch 13/15\n",
      "188/188 - 100s - loss: 0.8555 - accuracy: 0.8882 - val_loss: 1.2390 - val_accuracy: 0.8333 - 100s/epoch - 532ms/step\n",
      "Epoch 14/15\n",
      "188/188 - 113s - loss: 0.5309 - accuracy: 0.9233 - val_loss: 0.1995 - val_accuracy: 0.9663 - 113s/epoch - 604ms/step\n",
      "Epoch 15/15\n",
      "188/188 - 126s - loss: 0.0930 - accuracy: 0.9867 - val_loss: 0.0945 - val_accuracy: 0.9856 - 126s/epoch - 672ms/step\n"
     ]
    }
   ],
   "source": [
    "history = model_s32.fit(train_dataset, \n",
    "                    validation_data=validation_dataset,\n",
    "                    epochs=15,\n",
    "                    verbose=2)"
   ]
  },
  {
   "cell_type": "code",
   "execution_count": 30,
   "id": "7f47b3c4",
   "metadata": {},
   "outputs": [
    {
     "name": "stdout",
     "output_type": "stream",
     "text": [
      "21/21 [==============================] - 4s 164ms/step - loss: 0.0768 - accuracy: 0.9872\n"
     ]
    }
   ],
   "source": [
    "scores = model_s32.evaluate(test_dataset, verbose=1)"
   ]
  },
  {
   "cell_type": "code",
   "execution_count": 31,
   "id": "8602c779",
   "metadata": {
    "scrolled": true
   },
   "outputs": [
    {
     "data": {
      "image/png": "[encoded data removed]",
      "text/plain": [
       "<Figure size 432x288 with 1 Axes>"
      ]
     },
     "metadata": {
      "needs_background": "light"
     },
     "output_type": "display_data"
    }
   ],
   "source": [
    "plt.plot(history.history['accuracy'], \n",
    "         label='Доля верных ответов на обучающем наборе')\n",
    "plt.plot(history.history['val_accuracy'], \n",
    "         label='Доля верных ответов на проверочном наборе')\n",
    "plt.xlabel('Эпоха обучения')\n",
    "plt.ylabel('Доля верных ответов')\n",
    "plt.legend()\n",
    "plt.show()\n"
   ]
  },
  {
   "cell_type": "code",
   "execution_count": 32,
   "id": "63eae522",
   "metadata": {
    "scrolled": false
   },
   "outputs": [
    {
     "data": {
      "image/png": "[encoded data removed]",
      "text/plain": [
       "<Figure size 432x288 with 1 Axes>"
      ]
     },
     "metadata": {
      "needs_background": "light"
     },
     "output_type": "display_data"
    }
   ],
   "source": [
    "plt.plot(history.history['loss'], \n",
    "         label='Ошибка на обучающем наборе')\n",
    "plt.plot(history.history['val_loss'], \n",
    "         label='Ошибка на проверочном наборе')\n",
    "plt.xlabel('Эпоха обучения')\n",
    "plt.ylabel('Ошибка')\n",
    "plt.legend()\n",
    "plt.show()"
   ]
  },
  {
   "cell_type": "code",
   "execution_count": 33,
   "id": "6bb1f1ed",
   "metadata": {},
   "outputs": [],
   "source": [
    "model.save(\"Symbol_Check_model_s32.h5\")"
   ]
  },
  {
   "cell_type": "markdown",
   "id": "af212ad3",
   "metadata": {},
   "source": [
    " # добавляем еще один сверточный слой уменьшаем размер ядра на втором фильтре\n",
    " "
   ]
  },
  {
   "cell_type": "code",
   "execution_count": 34,
   "id": "dd129562",
   "metadata": {},
   "outputs": [
    {
     "name": "stdout",
     "output_type": "stream",
     "text": [
      "Model: \"sequential_3\"\n",
      "_________________________________________________________________\n",
      " Layer (type)                Output Shape              Param #   \n",
      "=================================================================\n",
      " conv2d_6 (Conv2D)           (None, 128, 128, 16)      416       \n",
      "                                                                 \n",
      " max_pooling2d_6 (MaxPooling  (None, 64, 64, 16)       0         \n",
      " 2D)                                                             \n",
      "                                                                 \n",
      " conv2d_7 (Conv2D)           (None, 64, 64, 32)        4640      \n",
      "                                                                 \n",
      " max_pooling2d_7 (MaxPooling  (None, 32, 32, 32)       0         \n",
      " 2D)                                                             \n",
      "                                                                 \n",
      " flatten_3 (Flatten)         (None, 32768)             0         \n",
      "                                                                 \n",
      " dense_7 (Dense)             (None, 512)               16777728  \n",
      "                                                                 \n",
      " dense_8 (Dense)             (None, 208)               106704    \n",
      "                                                                 \n",
      "=================================================================\n",
      "Total params: 16,889,488\n",
      "Trainable params: 16,889,488\n",
      "Non-trainable params: 0\n",
      "_________________________________________________________________\n"
     ]
    }
   ],
   "source": [
    "# Создаем последовательную модель\n",
    "model_s16_32 = Sequential()\n",
    "# Сверточный слой\n",
    "model_s16_32.add(Conv2D(16, (5, 5), padding='same', \n",
    "                 input_shape=(128, 128, 1), activation='relu'))\n",
    "# Слой подвыборки\n",
    "model_s16_32.add(MaxPooling2D(pool_size=(2, 2)))\n",
    "# Сверточный слой\n",
    "model_s16_32.add(Conv2D(32, (3, 3), padding='same', \n",
    "                 input_shape=(128, 128, 1), activation='relu'))\n",
    "# Слой подвыборки\n",
    "model_s16_32.add(MaxPooling2D(pool_size=(2, 2)))\n",
    "# Полносвязная часть нейронной сети для классификации\n",
    "model_s16_32.add(Flatten())\n",
    "model_s16_32.add(Dense(512, activation='relu'))\n",
    "# Выходной слой, 208 нейронов по количеству классов\n",
    "model_s16_32.add(Dense(208, activation='softmax'))\n",
    "model_s16_32.summary()"
   ]
  },
  {
   "cell_type": "code",
   "execution_count": 35,
   "id": "6e4e6c85",
   "metadata": {},
   "outputs": [],
   "source": [
    "model_s16_32.compile(loss='sparse_categorical_crossentropy',\n",
    "              optimizer=\"adam\",\n",
    "              metrics=['accuracy'])"
   ]
  },
  {
   "cell_type": "code",
   "execution_count": 36,
   "id": "6efb4e8d",
   "metadata": {
    "scrolled": true
   },
   "outputs": [
    {
     "name": "stdout",
     "output_type": "stream",
     "text": [
      "Epoch 1/15\n",
      "188/188 - 98s - loss: 47.4916 - accuracy: 0.5743 - val_loss: 0.3136 - val_accuracy: 0.9054 - 98s/epoch - 523ms/step\n",
      "Epoch 2/15\n",
      "188/188 - 97s - loss: 0.1766 - accuracy: 0.9500 - val_loss: 0.0696 - val_accuracy: 0.9776 - 97s/epoch - 514ms/step\n",
      "Epoch 3/15\n",
      "188/188 - 100s - loss: 0.0617 - accuracy: 0.9831 - val_loss: 0.0692 - val_accuracy: 0.9808 - 100s/epoch - 533ms/step\n",
      "Epoch 4/15\n",
      "188/188 - 92s - loss: 0.0297 - accuracy: 0.9927 - val_loss: 0.0345 - val_accuracy: 0.9952 - 92s/epoch - 487ms/step\n",
      "Epoch 5/15\n",
      "188/188 - 86s - loss: 0.0533 - accuracy: 0.9934 - val_loss: 0.1456 - val_accuracy: 0.9712 - 86s/epoch - 459ms/step\n",
      "Epoch 6/15\n",
      "188/188 - 85s - loss: 0.0767 - accuracy: 0.9845 - val_loss: 0.1384 - val_accuracy: 0.9808 - 85s/epoch - 450ms/step\n",
      "Epoch 7/15\n",
      "188/188 - 83s - loss: 0.1913 - accuracy: 0.9655 - val_loss: 0.2097 - val_accuracy: 0.9423 - 83s/epoch - 439ms/step\n",
      "Epoch 8/15\n",
      "188/188 - 83s - loss: 0.0830 - accuracy: 0.9806 - val_loss: 0.0884 - val_accuracy: 0.9840 - 83s/epoch - 442ms/step\n",
      "Epoch 9/15\n",
      "188/188 - 88s - loss: 0.0229 - accuracy: 0.9948 - val_loss: 0.0857 - val_accuracy: 0.9824 - 88s/epoch - 465ms/step\n",
      "Epoch 10/15\n",
      "188/188 - 90s - loss: 0.0078 - accuracy: 0.9979 - val_loss: 0.0650 - val_accuracy: 0.9920 - 90s/epoch - 476ms/step\n",
      "Epoch 11/15\n",
      "188/188 - 85s - loss: 0.0037 - accuracy: 0.9989 - val_loss: 0.0735 - val_accuracy: 0.9952 - 85s/epoch - 452ms/step\n",
      "Epoch 12/15\n",
      "188/188 - 88s - loss: 2.8802e-05 - accuracy: 1.0000 - val_loss: 0.0756 - val_accuracy: 0.9952 - 88s/epoch - 470ms/step\n",
      "Epoch 13/15\n",
      "188/188 - 81s - loss: 1.7569e-05 - accuracy: 1.0000 - val_loss: 0.0772 - val_accuracy: 0.9952 - 81s/epoch - 429ms/step\n",
      "Epoch 14/15\n",
      "188/188 - 83s - loss: 1.3107e-05 - accuracy: 1.0000 - val_loss: 0.0784 - val_accuracy: 0.9952 - 83s/epoch - 439ms/step\n",
      "Epoch 15/15\n",
      "188/188 - 87s - loss: 1.0352e-05 - accuracy: 1.0000 - val_loss: 0.0795 - val_accuracy: 0.9952 - 87s/epoch - 464ms/step\n"
     ]
    }
   ],
   "source": [
    "history = model_s16_32.fit(train_dataset, \n",
    "                    validation_data=validation_dataset,\n",
    "                    epochs=15,\n",
    "                    verbose=2)"
   ]
  },
  {
   "cell_type": "code",
   "execution_count": 37,
   "id": "3f5d258f",
   "metadata": {},
   "outputs": [
    {
     "name": "stdout",
     "output_type": "stream",
     "text": [
      "21/21 [==============================] - 3s 130ms/step - loss: 0.0149 - accuracy: 0.9968\n"
     ]
    }
   ],
   "source": [
    "scores = model_s16_32.evaluate(test_dataset, verbose=1)"
   ]
  },
  {
   "cell_type": "code",
   "execution_count": 38,
   "id": "c135e4e3",
   "metadata": {},
   "outputs": [
    {
     "data": {
      "image/png": "[encoded data removed]",
      "text/plain": [
       "<Figure size 432x288 with 1 Axes>"
      ]
     },
     "metadata": {
      "needs_background": "light"
     },
     "output_type": "display_data"
    }
   ],
   "source": [
    "plt.plot(history.history['accuracy'], \n",
    "         label='Доля верных ответов на обучающем наборе')\n",
    "plt.plot(history.history['val_accuracy'], \n",
    "         label='Доля верных ответов на проверочном наборе')\n",
    "plt.xlabel('Эпоха обучения')\n",
    "plt.ylabel('Доля верных ответов')\n",
    "plt.legend()\n",
    "plt.show()"
   ]
  },
  {
   "cell_type": "code",
   "execution_count": 39,
   "id": "4aeeea5c",
   "metadata": {
    "scrolled": false
   },
   "outputs": [
    {
     "data": {
      "image/png": "[encoded data removed]",
      "text/plain": [
       "<Figure size 432x288 with 1 Axes>"
      ]
     },
     "metadata": {
      "needs_background": "light"
     },
     "output_type": "display_data"
    }
   ],
   "source": [
    "plt.plot(history.history['loss'], \n",
    "         label='Ошибка на обучающем наборе')\n",
    "plt.plot(history.history['val_loss'], \n",
    "         label='Ошибка на проверочном наборе')\n",
    "plt.xlabel('Эпоха обучения')\n",
    "plt.ylabel('Ошибка')\n",
    "plt.legend()\n",
    "plt.show()"
   ]
  },
  {
   "cell_type": "code",
   "execution_count": 40,
   "id": "fef85ba1",
   "metadata": {},
   "outputs": [],
   "source": [
    "model.save(\"Symbol_Check_model_s16_32.h5\")"
   ]
  },
  {
   "cell_type": "markdown",
   "id": "d84e4631",
   "metadata": {},
   "source": [
    "# добавим еще один сверточный слой"
   ]
  },
  {
   "cell_type": "code",
   "execution_count": 41,
   "id": "dfb8d0db",
   "metadata": {},
   "outputs": [
    {
     "name": "stdout",
     "output_type": "stream",
     "text": [
      "Model: \"sequential_4\"\n",
      "_________________________________________________________________\n",
      " Layer (type)                Output Shape              Param #   \n",
      "=================================================================\n",
      " conv2d_8 (Conv2D)           (None, 128, 128, 16)      416       \n",
      "                                                                 \n",
      " max_pooling2d_8 (MaxPooling  (None, 64, 64, 16)       0         \n",
      " 2D)                                                             \n",
      "                                                                 \n",
      " conv2d_9 (Conv2D)           (None, 64, 64, 32)        4640      \n",
      "                                                                 \n",
      " max_pooling2d_9 (MaxPooling  (None, 32, 32, 32)       0         \n",
      " 2D)                                                             \n",
      "                                                                 \n",
      " conv2d_10 (Conv2D)          (None, 32, 32, 64)        18496     \n",
      "                                                                 \n",
      " max_pooling2d_10 (MaxPoolin  (None, 16, 16, 64)       0         \n",
      " g2D)                                                            \n",
      "                                                                 \n",
      " flatten_4 (Flatten)         (None, 16384)             0         \n",
      "                                                                 \n",
      " dense_9 (Dense)             (None, 512)               8389120   \n",
      "                                                                 \n",
      " dense_10 (Dense)            (None, 208)               106704    \n",
      "                                                                 \n",
      "=================================================================\n",
      "Total params: 8,519,376\n",
      "Trainable params: 8,519,376\n",
      "Non-trainable params: 0\n",
      "_________________________________________________________________\n"
     ]
    }
   ],
   "source": [
    "# Создаем последовательную модель\n",
    "model_s16_32_64 = Sequential()\n",
    "# Сверточный слой\n",
    "model_s16_32_64.add(Conv2D(16, (5, 5), padding='same', \n",
    "                 input_shape=(128, 128, 1), activation='relu'))\n",
    "# Слой подвыборки\n",
    "model_s16_32_64.add(MaxPooling2D(pool_size=(2, 2)))\n",
    "# Сверточный слой\n",
    "model_s16_32_64.add(Conv2D(32, (3, 3), padding='same', \n",
    "                 input_shape=(128, 128, 1), activation='relu'))\n",
    "# Слой подвыборки\n",
    "model_s16_32_64.add(MaxPooling2D(pool_size=(2, 2)))\n",
    "# Сверточный слой\n",
    "model_s16_32_64.add(Conv2D(64, (3, 3), padding='same', \n",
    "                 input_shape=(128, 128, 1), activation='relu'))\n",
    "# Слой подвыборки\n",
    "model_s16_32_64.add(MaxPooling2D(pool_size=(2, 2)))\n",
    "# Полносвязная часть нейронной сети для классификации\n",
    "model_s16_32_64.add(Flatten())\n",
    "model_s16_32_64.add(Dense(512, activation='relu'))\n",
    "# Выходной слой, 208 нейронов по количеству классов\n",
    "model_s16_32_64.add(Dense(208, activation='softmax'))\n",
    "model_s16_32_64.summary()"
   ]
  },
  {
   "cell_type": "code",
   "execution_count": 42,
   "id": "f156ffb5",
   "metadata": {},
   "outputs": [],
   "source": [
    "model_s16_32_64.compile(loss='sparse_categorical_crossentropy',\n",
    "              optimizer=\"adam\",\n",
    "              metrics=['accuracy'])"
   ]
  },
  {
   "cell_type": "code",
   "execution_count": 43,
   "id": "1b2cc823",
   "metadata": {},
   "outputs": [
    {
     "name": "stdout",
     "output_type": "stream",
     "text": [
      "Epoch 1/15\n",
      "188/188 - 106s - loss: 9.8294 - accuracy: 0.5932 - val_loss: 0.1865 - val_accuracy: 0.9375 - 106s/epoch - 566ms/step\n",
      "Epoch 2/15\n",
      "188/188 - 95s - loss: 0.1390 - accuracy: 0.9589 - val_loss: 0.0280 - val_accuracy: 0.9936 - 95s/epoch - 508ms/step\n",
      "Epoch 3/15\n",
      "188/188 - 106s - loss: 0.0452 - accuracy: 0.9897 - val_loss: 0.0755 - val_accuracy: 0.9792 - 106s/epoch - 563ms/step\n",
      "Epoch 4/15\n",
      "188/188 - 108s - loss: 0.0491 - accuracy: 0.9925 - val_loss: 0.0324 - val_accuracy: 0.9936 - 108s/epoch - 575ms/step\n",
      "Epoch 5/15\n",
      "188/188 - 100s - loss: 0.0762 - accuracy: 0.9875 - val_loss: 0.0304 - val_accuracy: 0.9920 - 100s/epoch - 532ms/step\n",
      "Epoch 6/15\n",
      "188/188 - 94s - loss: 0.0298 - accuracy: 0.9947 - val_loss: 0.0216 - val_accuracy: 0.9904 - 94s/epoch - 498ms/step\n",
      "Epoch 7/15\n",
      "188/188 - 101s - loss: 0.0836 - accuracy: 0.9879 - val_loss: 0.3036 - val_accuracy: 0.9712 - 101s/epoch - 539ms/step\n",
      "Epoch 8/15\n",
      "188/188 - 96s - loss: 0.0867 - accuracy: 0.9824 - val_loss: 0.0575 - val_accuracy: 0.9760 - 96s/epoch - 509ms/step\n",
      "Epoch 9/15\n",
      "188/188 - 89s - loss: 0.0251 - accuracy: 0.9948 - val_loss: 3.9880e-04 - val_accuracy: 1.0000 - 89s/epoch - 471ms/step\n",
      "Epoch 10/15\n",
      "188/188 - 88s - loss: 1.8084e-04 - accuracy: 1.0000 - val_loss: 9.0924e-05 - val_accuracy: 1.0000 - 88s/epoch - 470ms/step\n",
      "Epoch 11/15\n",
      "188/188 - 93s - loss: 2.2007e-05 - accuracy: 1.0000 - val_loss: 7.2992e-05 - val_accuracy: 1.0000 - 93s/epoch - 497ms/step\n",
      "Epoch 12/15\n",
      "188/188 - 91s - loss: 1.4878e-05 - accuracy: 1.0000 - val_loss: 5.9839e-05 - val_accuracy: 1.0000 - 91s/epoch - 482ms/step\n",
      "Epoch 13/15\n",
      "188/188 - 89s - loss: 1.1416e-05 - accuracy: 1.0000 - val_loss: 5.0083e-05 - val_accuracy: 1.0000 - 89s/epoch - 475ms/step\n",
      "Epoch 14/15\n",
      "188/188 - 85s - loss: 9.1283e-06 - accuracy: 1.0000 - val_loss: 4.2992e-05 - val_accuracy: 1.0000 - 85s/epoch - 451ms/step\n",
      "Epoch 15/15\n",
      "188/188 - 84s - loss: 7.4810e-06 - accuracy: 1.0000 - val_loss: 3.7661e-05 - val_accuracy: 1.0000 - 84s/epoch - 446ms/step\n"
     ]
    }
   ],
   "source": [
    "history = model_s16_32_64.fit(train_dataset, \n",
    "                    validation_data=validation_dataset,\n",
    "                    epochs=15,\n",
    "                    verbose=2)"
   ]
  },
  {
   "cell_type": "code",
   "execution_count": 44,
   "id": "b1bfb180",
   "metadata": {},
   "outputs": [
    {
     "name": "stdout",
     "output_type": "stream",
     "text": [
      "21/21 [==============================] - 3s 133ms/step - loss: 2.3896e-04 - accuracy: 1.0000\n"
     ]
    }
   ],
   "source": [
    "scores = model_s16_32_64.evaluate(test_dataset, verbose=1)"
   ]
  },
  {
   "cell_type": "code",
   "execution_count": 45,
   "id": "8a6a3a04",
   "metadata": {},
   "outputs": [],
   "source": [
    "model_s16_32_64.save(\"Symbol_Check_model_s16_32_64.h5\")"
   ]
  },
  {
   "cell_type": "code",
   "execution_count": 46,
   "id": "c4a74c67",
   "metadata": {},
   "outputs": [
    {
     "data": {
      "image/png": "[encoded data removed]",
      "text/plain": [
       "<Figure size 432x288 with 1 Axes>"
      ]
     },
     "metadata": {
      "needs_background": "light"
     },
     "output_type": "display_data"
    }
   ],
   "source": [
    "plt.plot(history.history['accuracy'], \n",
    "         label='Доля верных ответов на обучающем наборе')\n",
    "plt.plot(history.history['val_accuracy'], \n",
    "         label='Доля верных ответов на проверочном наборе')\n",
    "plt.xlabel('Эпоха обучения')\n",
    "plt.ylabel('Доля верных ответов')\n",
    "plt.legend()\n",
    "plt.show()"
   ]
  },
  {
   "cell_type": "code",
   "execution_count": 47,
   "id": "b5183133",
   "metadata": {
    "scrolled": true
   },
   "outputs": [
    {
     "data": {
      "image/png": "[encoded data removed]",
      "text/plain": [
       "<Figure size 432x288 with 1 Axes>"
      ]
     },
     "metadata": {
      "needs_background": "light"
     },
     "output_type": "display_data"
    }
   ],
   "source": [
    "plt.plot(history.history['loss'], \n",
    "         label='Ошибка на обучающем наборе')\n",
    "plt.plot(history.history['val_loss'], \n",
    "         label='Ошибка на проверочном наборе')\n",
    "plt.xlabel('Эпоха обучения')\n",
    "plt.ylabel('Ошибка')\n",
    "plt.legend()\n",
    "plt.show()"
   ]
  },
  {
   "cell_type": "markdown",
   "id": "7f5c68ad",
   "metadata": {},
   "source": [
    "# Добавляем слой Dropout "
   ]
  },
  {
   "cell_type": "code",
   "execution_count": 48,
   "id": "0567e72f",
   "metadata": {},
   "outputs": [
    {
     "name": "stdout",
     "output_type": "stream",
     "text": [
      "Model: \"sequential_5\"\n",
      "_________________________________________________________________\n",
      " Layer (type)                Output Shape              Param #   \n",
      "=================================================================\n",
      " conv2d_11 (Conv2D)          (None, 128, 128, 16)      416       \n",
      "                                                                 \n",
      " max_pooling2d_11 (MaxPoolin  (None, 64, 64, 16)       0         \n",
      " g2D)                                                            \n",
      "                                                                 \n",
      " conv2d_12 (Conv2D)          (None, 64, 64, 32)        4640      \n",
      "                                                                 \n",
      " max_pooling2d_12 (MaxPoolin  (None, 32, 32, 32)       0         \n",
      " g2D)                                                            \n",
      "                                                                 \n",
      " conv2d_13 (Conv2D)          (None, 32, 32, 64)        18496     \n",
      "                                                                 \n",
      " max_pooling2d_13 (MaxPoolin  (None, 16, 16, 64)       0         \n",
      " g2D)                                                            \n",
      "                                                                 \n",
      " flatten_5 (Flatten)         (None, 16384)             0         \n",
      "                                                                 \n",
      " dense_11 (Dense)            (None, 512)               8389120   \n",
      "                                                                 \n",
      " dense_12 (Dense)            (None, 208)               106704    \n",
      "                                                                 \n",
      "=================================================================\n",
      "Total params: 8,519,376\n",
      "Trainable params: 8,519,376\n",
      "Non-trainable params: 0\n",
      "_________________________________________________________________\n"
     ]
    }
   ],
   "source": [
    "# Создаем последовательную модель\n",
    "model_s16_32_64_drop = Sequential()\n",
    "# Сверточный слой\n",
    "model_s16_32_64_drop.add(Conv2D(16, (5, 5), padding='same', \n",
    "                 input_shape=(128, 128, 1), activation='relu'))\n",
    "# Слой подвыборки\n",
    "model_s16_32_64_drop.add(MaxPooling2D(pool_size=(2, 2)))\n",
    "# Сверточный слой\n",
    "model_s16_32_64_drop.add(Conv2D(32, (3, 3), padding='same', \n",
    "                 input_shape=(128, 128, 1), activation='relu'))\n",
    "# Слой подвыборки\n",
    "model_s16_32_64_drop.add(MaxPooling2D(pool_size=(2, 2)))\n",
    "# Сверточный слой\n",
    "model_s16_32_64_drop.add(Conv2D(64, (3, 3), padding='same', \n",
    "                 input_shape=(128, 128, 1), activation='relu'))\n",
    "# Слой подвыборки\n",
    "model_s16_32_64_drop.add(MaxPooling2D(pool_size=(2, 2)))\n",
    "# Полносвязная часть нейронной сети для классификации\n",
    "model_s16_32_64_drop.add(Flatten())\n",
    "model_s16_32_64_drop.add(Dense(512, activation='relu'))\n",
    "model.add(Dropout(0.1))\n",
    "# Выходной слой, 208 нейронов по количеству классов\n",
    "model_s16_32_64_drop.add(Dense(208, activation='softmax'))\n",
    "model_s16_32_64_drop.summary()"
   ]
  },
  {
   "cell_type": "code",
   "execution_count": 49,
   "id": "73b7337b",
   "metadata": {},
   "outputs": [],
   "source": [
    "model_s16_32_64_drop.compile(loss='sparse_categorical_crossentropy',\n",
    "              optimizer=\"adam\",\n",
    "              metrics=['accuracy'])"
   ]
  },
  {
   "cell_type": "code",
   "execution_count": 50,
   "id": "c7117fd2",
   "metadata": {},
   "outputs": [
    {
     "name": "stdout",
     "output_type": "stream",
     "text": [
      "Epoch 1/15\n",
      "188/188 - 86s - loss: 6.0807 - accuracy: 0.6711 - val_loss: 0.3414 - val_accuracy: 0.8974 - 86s/epoch - 459ms/step\n",
      "Epoch 2/15\n",
      "188/188 - 85s - loss: 0.1060 - accuracy: 0.9676 - val_loss: 0.0764 - val_accuracy: 0.9808 - 85s/epoch - 454ms/step\n",
      "Epoch 3/15\n",
      "188/188 - 84s - loss: 0.0463 - accuracy: 0.9900 - val_loss: 0.0887 - val_accuracy: 0.9744 - 84s/epoch - 447ms/step\n",
      "Epoch 4/15\n",
      "188/188 - 84s - loss: 0.0228 - accuracy: 0.9959 - val_loss: 0.0334 - val_accuracy: 0.9952 - 84s/epoch - 446ms/step\n",
      "Epoch 5/15\n",
      "188/188 - 84s - loss: 0.0323 - accuracy: 0.9945 - val_loss: 0.0157 - val_accuracy: 0.9952 - 84s/epoch - 445ms/step\n",
      "Epoch 6/15\n",
      "188/188 - 81s - loss: 0.1130 - accuracy: 0.9778 - val_loss: 0.0238 - val_accuracy: 0.9888 - 81s/epoch - 432ms/step\n",
      "Epoch 7/15\n",
      "188/188 - 81s - loss: 0.1046 - accuracy: 0.9786 - val_loss: 0.0246 - val_accuracy: 0.9920 - 81s/epoch - 432ms/step\n",
      "Epoch 8/15\n",
      "188/188 - 81s - loss: 0.0323 - accuracy: 0.9957 - val_loss: 0.0466 - val_accuracy: 0.9904 - 81s/epoch - 433ms/step\n",
      "Epoch 9/15\n",
      "188/188 - 81s - loss: 0.0688 - accuracy: 0.9899 - val_loss: 0.0200 - val_accuracy: 0.9936 - 81s/epoch - 431ms/step\n",
      "Epoch 10/15\n",
      "188/188 - 85s - loss: 0.0162 - accuracy: 0.9959 - val_loss: 0.0064 - val_accuracy: 0.9952 - 85s/epoch - 450ms/step\n",
      "Epoch 11/15\n",
      "188/188 - 87s - loss: 1.9334e-04 - accuracy: 1.0000 - val_loss: 9.6679e-04 - val_accuracy: 1.0000 - 87s/epoch - 462ms/step\n",
      "Epoch 12/15\n",
      "188/188 - 88s - loss: 3.3548e-05 - accuracy: 1.0000 - val_loss: 6.3220e-04 - val_accuracy: 1.0000 - 88s/epoch - 467ms/step\n",
      "Epoch 13/15\n",
      "188/188 - 92s - loss: 2.1034e-05 - accuracy: 1.0000 - val_loss: 4.9302e-04 - val_accuracy: 1.0000 - 92s/epoch - 491ms/step\n",
      "Epoch 14/15\n",
      "188/188 - 94s - loss: 1.5229e-05 - accuracy: 1.0000 - val_loss: 4.1179e-04 - val_accuracy: 1.0000 - 94s/epoch - 498ms/step\n",
      "Epoch 15/15\n",
      "188/188 - 92s - loss: 1.1741e-05 - accuracy: 1.0000 - val_loss: 3.6245e-04 - val_accuracy: 1.0000 - 92s/epoch - 487ms/step\n"
     ]
    }
   ],
   "source": [
    "history = model_s16_32_64_drop.fit(train_dataset, \n",
    "                    validation_data=validation_dataset,\n",
    "                    epochs=15,\n",
    "                    verbose=2)"
   ]
  },
  {
   "cell_type": "code",
   "execution_count": 51,
   "id": "dd016b1d",
   "metadata": {},
   "outputs": [],
   "source": [
    "model_s16_32_64_drop.save(\"Symbol_Check_model_s16_32_64_drop.h5\")"
   ]
  },
  {
   "cell_type": "code",
   "execution_count": 52,
   "id": "b3b45377",
   "metadata": {},
   "outputs": [
    {
     "name": "stdout",
     "output_type": "stream",
     "text": [
      "21/21 [==============================] - 3s 136ms/step - loss: 0.0022 - accuracy: 0.9984\n"
     ]
    }
   ],
   "source": [
    "scores = model_s16_32_64_drop.evaluate(test_dataset, verbose=1)"
   ]
  },
  {
   "cell_type": "code",
   "execution_count": 53,
   "id": "818d81dd",
   "metadata": {},
   "outputs": [
    {
     "data": {
      "image/png": "[encoded data removed]",
      "text/plain": [
       "<Figure size 432x288 with 1 Axes>"
      ]
     },
     "metadata": {
      "needs_background": "light"
     },
     "output_type": "display_data"
    }
   ],
   "source": [
    "plt.plot(history.history['accuracy'], \n",
    "         label='Доля верных ответов на обучающем наборе')\n",
    "plt.plot(history.history['val_accuracy'], \n",
    "         label='Доля верных ответов на проверочном наборе')\n",
    "plt.xlabel('Эпоха обучения')\n",
    "plt.ylabel('Доля верных ответов')\n",
    "plt.legend()\n",
    "plt.show()"
   ]
  },
  {
   "cell_type": "code",
   "execution_count": 54,
   "id": "5bf53df2",
   "metadata": {
    "scrolled": true
   },
   "outputs": [
    {
     "data": {
      "image/png": "[encoded data removed]",
      "text/plain": [
       "<Figure size 432x288 with 1 Axes>"
      ]
     },
     "metadata": {
      "needs_background": "light"
     },
     "output_type": "display_data"
    }
   ],
   "source": [
    "plt.plot(history.history['loss'], \n",
    "         label='Ошибка на обучающем наборе')\n",
    "plt.plot(history.history['val_loss'], \n",
    "         label='Ошибка на проверочном наборе')\n",
    "plt.xlabel('Эпоха обучения')\n",
    "plt.ylabel('Ошибка')\n",
    "plt.legend()\n",
    "plt.show()"
   ]
  },
  {
   "cell_type": "markdown",
   "id": "766be024",
   "metadata": {},
   "source": [
    "# Изменим размеры фильтров на сверточных слоях"
   ]
  },
  {
   "cell_type": "code",
   "execution_count": 55,
   "id": "6319f2dc",
   "metadata": {
    "scrolled": true
   },
   "outputs": [
    {
     "name": "stdout",
     "output_type": "stream",
     "text": [
      "Model: \"sequential_6\"\n",
      "_________________________________________________________________\n",
      " Layer (type)                Output Shape              Param #   \n",
      "=================================================================\n",
      " conv2d_14 (Conv2D)          (None, 128, 128, 16)      800       \n",
      "                                                                 \n",
      " max_pooling2d_14 (MaxPoolin  (None, 64, 64, 16)       0         \n",
      " g2D)                                                            \n",
      "                                                                 \n",
      " conv2d_15 (Conv2D)          (None, 64, 64, 32)        12832     \n",
      "                                                                 \n",
      " max_pooling2d_15 (MaxPoolin  (None, 32, 32, 32)       0         \n",
      " g2D)                                                            \n",
      "                                                                 \n",
      " conv2d_16 (Conv2D)          (None, 32, 32, 64)        18496     \n",
      "                                                                 \n",
      " max_pooling2d_16 (MaxPoolin  (None, 16, 16, 64)       0         \n",
      " g2D)                                                            \n",
      "                                                                 \n",
      " flatten_6 (Flatten)         (None, 16384)             0         \n",
      "                                                                 \n",
      " dense_13 (Dense)            (None, 512)               8389120   \n",
      "                                                                 \n",
      " dense_14 (Dense)            (None, 208)               106704    \n",
      "                                                                 \n",
      "=================================================================\n",
      "Total params: 8,527,952\n",
      "Trainable params: 8,527,952\n",
      "Non-trainable params: 0\n",
      "_________________________________________________________________\n"
     ]
    }
   ],
   "source": [
    "# Создаем последовательную модель\n",
    "model_f7_5_3_drop = Sequential()\n",
    "# Сверточный слой\n",
    "model_f7_5_3_drop.add(Conv2D(16, (7, 7), padding='same', \n",
    "                 input_shape=(128, 128, 1), activation='relu'))\n",
    "# Слой подвыборки\n",
    "model_f7_5_3_drop.add(MaxPooling2D(pool_size=(2, 2)))\n",
    "# Сверточный слой\n",
    "model_f7_5_3_drop.add(Conv2D(32, (5, 5), padding='same', \n",
    "                 input_shape=(128, 128, 1), activation='relu'))\n",
    "# Слой подвыборки\n",
    "model_f7_5_3_drop.add(MaxPooling2D(pool_size=(2, 2)))\n",
    "# Сверточный слой\n",
    "model_f7_5_3_drop.add(Conv2D(64, (3, 3), padding='same', \n",
    "                 input_shape=(128, 128, 1), activation='relu'))\n",
    "# Слой подвыборки\n",
    "model_f7_5_3_drop.add(MaxPooling2D(pool_size=(2, 2)))\n",
    "# Полносвязная часть нейронной сети для классификации\n",
    "model_f7_5_3_drop.add(Flatten())\n",
    "model_f7_5_3_drop.add(Dense(512, activation='relu'))\n",
    "model_f7_5_3_drop.add(Dropout(0.1))\n",
    "# Выходной слой, 208 нейронов по количеству классов\n",
    "model_f7_5_3_drop.add(Dense(208, activation='softmax'))\n",
    "model_f7_5_3_drop.summary()"
   ]
  },
  {
   "cell_type": "code",
   "execution_count": 56,
   "id": "6e2ce86e",
   "metadata": {},
   "outputs": [],
   "source": [
    "model_f7_5_3_drop.compile(loss='sparse_categorical_crossentropy',\n",
    "              optimizer=\"adam\",\n",
    "              metrics=['accuracy'])"
   ]
  },
  {
   "cell_type": "code",
   "execution_count": 57,
   "id": "adc2e501",
   "metadata": {},
   "outputs": [
    {
     "name": "stdout",
     "output_type": "stream",
     "text": [
      "Epoch 1/15\n",
      "188/188 - 132s - loss: 10.7084 - accuracy: 0.5044 - val_loss: 0.3212 - val_accuracy: 0.8926 - 132s/epoch - 704ms/step\n",
      "Epoch 2/15\n",
      "188/188 - 133s - loss: 0.1944 - accuracy: 0.9425 - val_loss: 0.0852 - val_accuracy: 0.9744 - 133s/epoch - 707ms/step\n",
      "Epoch 3/15\n",
      "188/188 - 142s - loss: 0.0305 - accuracy: 0.9927 - val_loss: 0.0323 - val_accuracy: 0.9920 - 142s/epoch - 758ms/step\n",
      "Epoch 4/15\n",
      "188/188 - 144s - loss: 0.0061 - accuracy: 0.9988 - val_loss: 0.0101 - val_accuracy: 0.9952 - 144s/epoch - 767ms/step\n",
      "Epoch 5/15\n",
      "188/188 - 151s - loss: 0.0123 - accuracy: 0.9980 - val_loss: 0.0024 - val_accuracy: 1.0000 - 151s/epoch - 803ms/step\n",
      "Epoch 6/15\n",
      "188/188 - 136s - loss: 0.0271 - accuracy: 0.9954 - val_loss: 0.1525 - val_accuracy: 0.9647 - 136s/epoch - 724ms/step\n",
      "Epoch 7/15\n",
      "188/188 - 140s - loss: 0.1832 - accuracy: 0.9628 - val_loss: 0.0509 - val_accuracy: 0.9824 - 140s/epoch - 743ms/step\n",
      "Epoch 8/15\n",
      "188/188 - 137s - loss: 0.0790 - accuracy: 0.9852 - val_loss: 0.0030 - val_accuracy: 1.0000 - 137s/epoch - 726ms/step\n",
      "Epoch 9/15\n",
      "188/188 - 130s - loss: 0.0108 - accuracy: 0.9980 - val_loss: 0.0104 - val_accuracy: 0.9952 - 130s/epoch - 693ms/step\n",
      "Epoch 10/15\n",
      "188/188 - 132s - loss: 0.0081 - accuracy: 0.9982 - val_loss: 0.0014 - val_accuracy: 1.0000 - 132s/epoch - 705ms/step\n",
      "Epoch 11/15\n",
      "188/188 - 136s - loss: 1.4897e-04 - accuracy: 1.0000 - val_loss: 9.7380e-04 - val_accuracy: 1.0000 - 136s/epoch - 721ms/step\n",
      "Epoch 12/15\n",
      "188/188 - 132s - loss: 4.8441e-05 - accuracy: 1.0000 - val_loss: 6.1476e-04 - val_accuracy: 1.0000 - 132s/epoch - 700ms/step\n",
      "Epoch 13/15\n",
      "188/188 - 133s - loss: 3.1860e-05 - accuracy: 1.0000 - val_loss: 4.9615e-04 - val_accuracy: 1.0000 - 133s/epoch - 705ms/step\n",
      "Epoch 14/15\n",
      "188/188 - 132s - loss: 2.3209e-05 - accuracy: 1.0000 - val_loss: 4.2549e-04 - val_accuracy: 1.0000 - 132s/epoch - 703ms/step\n",
      "Epoch 15/15\n",
      "188/188 - 130s - loss: 1.7687e-05 - accuracy: 1.0000 - val_loss: 3.8314e-04 - val_accuracy: 1.0000 - 130s/epoch - 690ms/step\n"
     ]
    }
   ],
   "source": [
    "history = model_f7_5_3_drop.fit(train_dataset, \n",
    "                    validation_data=validation_dataset,\n",
    "                    epochs=15,\n",
    "                    verbose=2)"
   ]
  },
  {
   "cell_type": "code",
   "execution_count": 58,
   "id": "7fef1afd",
   "metadata": {},
   "outputs": [],
   "source": [
    "model_f7_5_3_drop.save(\"Symbol_Check_model_f7_5_3_drop.h5\")"
   ]
  },
  {
   "cell_type": "code",
   "execution_count": 59,
   "id": "dbe32ae7",
   "metadata": {},
   "outputs": [
    {
     "name": "stdout",
     "output_type": "stream",
     "text": [
      "21/21 [==============================] - 4s 190ms/step - loss: 3.1123e-05 - accuracy: 1.0000\n"
     ]
    }
   ],
   "source": [
    "scores = model_f7_5_3_drop.evaluate(test_dataset, verbose=1)"
   ]
  },
  {
   "cell_type": "code",
   "execution_count": 60,
   "id": "17e7b976",
   "metadata": {
    "scrolled": true
   },
   "outputs": [
    {
     "data": {
      "image/png": "[encoded data removed]",
      "text/plain": [
       "<Figure size 432x288 with 1 Axes>"
      ]
     },
     "metadata": {
      "needs_background": "light"
     },
     "output_type": "display_data"
    }
   ],
   "source": [
    "plt.plot(history.history['accuracy'], \n",
    "         label='Доля верных ответов на обучающем наборе')\n",
    "plt.plot(history.history['val_accuracy'], \n",
    "         label='Доля верных ответов на проверочном наборе')\n",
    "plt.xlabel('Эпоха обучения')\n",
    "plt.ylabel('Доля верных ответов')\n",
    "plt.legend()\n",
    "plt.show()"
   ]
  },
  {
   "cell_type": "code",
   "execution_count": 61,
   "id": "e6353077",
   "metadata": {
    "scrolled": true
   },
   "outputs": [
    {
     "data": {
      "image/png": "[encoded data removed]",
      "text/plain": [
       "<Figure size 432x288 with 1 Axes>"
      ]
     },
     "metadata": {
      "needs_background": "light"
     },
     "output_type": "display_data"
    }
   ],
   "source": [
    "plt.plot(history.history['loss'], \n",
    "         label='Ошибка на обучающем наборе')\n",
    "plt.plot(history.history['val_loss'], \n",
    "         label='Ошибка на проверочном наборе')\n",
    "plt.xlabel('Эпоха обучения')\n",
    "plt.ylabel('Ошибка')\n",
    "plt.legend()\n",
    "plt.show()"
   ]
  },
  {
   "cell_type": "code",
   "execution_count": 62,
   "id": "c2d77f69",
   "metadata": {},
   "outputs": [
    {
     "name": "stdout",
     "output_type": "stream",
     "text": [
      "Model: \"sequential_7\"\n",
      "_________________________________________________________________\n",
      " Layer (type)                Output Shape              Param #   \n",
      "=================================================================\n",
      " conv2d_17 (Conv2D)          (None, 128, 128, 16)      4112      \n",
      "                                                                 \n",
      " max_pooling2d_17 (MaxPoolin  (None, 64, 64, 16)       0         \n",
      " g2D)                                                            \n",
      "                                                                 \n",
      " conv2d_18 (Conv2D)          (None, 64, 64, 32)        32800     \n",
      "                                                                 \n",
      " max_pooling2d_18 (MaxPoolin  (None, 32, 32, 32)       0         \n",
      " g2D)                                                            \n",
      "                                                                 \n",
      " conv2d_19 (Conv2D)          (None, 32, 32, 64)        32832     \n",
      "                                                                 \n",
      " max_pooling2d_19 (MaxPoolin  (None, 16, 16, 64)       0         \n",
      " g2D)                                                            \n",
      "                                                                 \n",
      " flatten_7 (Flatten)         (None, 16384)             0         \n",
      "                                                                 \n",
      " dense_15 (Dense)            (None, 512)               8389120   \n",
      "                                                                 \n",
      " dropout_4 (Dropout)         (None, 512)               0         \n",
      "                                                                 \n",
      " dense_16 (Dense)            (None, 208)               106704    \n",
      "                                                                 \n",
      "=================================================================\n",
      "Total params: 8,565,568\n",
      "Trainable params: 8,565,568\n",
      "Non-trainable params: 0\n",
      "_________________________________________________________________\n"
     ]
    }
   ],
   "source": [
    "# Создаем последовательную модель\n",
    "model_f11_7_3_drop = Sequential()\n",
    "# Сверточный слой\n",
    "model_f11_7_3_drop.add(Conv2D(16, (11, 11), padding='same', \n",
    "                 input_shape=(128, 128, 1), activation='relu'))\n",
    "# Слой подвыборки\n",
    "model_f11_7_3_drop.add(MaxPooling2D(pool_size=(2, 2)))\n",
    "# Сверточный слой\n",
    "model_f11_7_3_drop.add(Conv2D(32, (7, 7), padding='same', \n",
    "                 input_shape=(128, 128, 1), activation='relu'))\n",
    "# Слой подвыборки\n",
    "model_f11_7_3_drop.add(MaxPooling2D(pool_size=(2, 2)))\n",
    "# Сверточный слой\n",
    "model_f11_7_3_drop.add(Conv2D(64, (3, 3), padding='same', \n",
    "                 input_shape=(128, 128, 1), activation='relu'))\n",
    "# Слой подвыборки\n",
    "model_f11_7_3_drop.add(MaxPooling2D(pool_size=(2, 2)))\n",
    "# Полносвязная часть нейронной сети для классификации\n",
    "model_f11_7_3_drop.add(Flatten())\n",
    "model_f11_7_3_drop.add(Dense(512, activation='relu'))\n",
    "model_f11_7_3_drop.add(Dropout(0.1))\n",
    "# Выходной слой, 208 нейронов по количеству классов\n",
    "model_f11_7_3_drop.add(Dense(208, activation='softmax'))\n",
    "model_f11_7_3_drop.summary()"
   ]
  },
  {
   "cell_type": "code",
   "execution_count": 63,
   "id": "297e52be",
   "metadata": {},
   "outputs": [],
   "source": [
    "model_f11_7_3_drop.compile(loss='sparse_categorical_crossentropy',\n",
    "              optimizer=\"adam\",\n",
    "              metrics=['accuracy'])"
   ]
  },
  {
   "cell_type": "code",
   "execution_count": 64,
   "id": "290bfe70",
   "metadata": {},
   "outputs": [
    {
     "name": "stdout",
     "output_type": "stream",
     "text": [
      "Epoch 1/15\n",
      "188/188 - 328s - loss: 4.7921 - accuracy: 0.2981 - val_loss: 0.9441 - val_accuracy: 0.6587 - 328s/epoch - 2s/step\n",
      "Epoch 2/15\n",
      "188/188 - 322s - loss: 0.5243 - accuracy: 0.8272 - val_loss: 0.3056 - val_accuracy: 0.9006 - 322s/epoch - 2s/step\n",
      "Epoch 3/15\n",
      "188/188 - 316s - loss: 0.2165 - accuracy: 0.9269 - val_loss: 0.1378 - val_accuracy: 0.9567 - 316s/epoch - 2s/step\n",
      "Epoch 4/15\n",
      "188/188 - 316s - loss: 0.1323 - accuracy: 0.9546 - val_loss: 0.0640 - val_accuracy: 0.9808 - 316s/epoch - 2s/step\n",
      "Epoch 5/15\n",
      "188/188 - 315s - loss: 0.0961 - accuracy: 0.9715 - val_loss: 0.0562 - val_accuracy: 0.9792 - 315s/epoch - 2s/step\n",
      "Epoch 6/15\n",
      "188/188 - 316s - loss: 0.0672 - accuracy: 0.9834 - val_loss: 0.2542 - val_accuracy: 0.9583 - 316s/epoch - 2s/step\n",
      "Epoch 7/15\n",
      "188/188 - 316s - loss: 0.1475 - accuracy: 0.9674 - val_loss: 0.1760 - val_accuracy: 0.9455 - 316s/epoch - 2s/step\n",
      "Epoch 8/15\n",
      "188/188 - 316s - loss: 0.0823 - accuracy: 0.9804 - val_loss: 0.0704 - val_accuracy: 0.9824 - 316s/epoch - 2s/step\n",
      "Epoch 9/15\n",
      "188/188 - 317s - loss: 0.0364 - accuracy: 0.9920 - val_loss: 0.0332 - val_accuracy: 0.9888 - 317s/epoch - 2s/step\n",
      "Epoch 10/15\n",
      "188/188 - 338s - loss: 0.0277 - accuracy: 0.9945 - val_loss: 0.0207 - val_accuracy: 0.9920 - 338s/epoch - 2s/step\n",
      "Epoch 11/15\n",
      "188/188 - 377s - loss: 0.0227 - accuracy: 0.9922 - val_loss: 0.0210 - val_accuracy: 0.9952 - 377s/epoch - 2s/step\n",
      "Epoch 12/15\n",
      "188/188 - 383s - loss: 0.1149 - accuracy: 0.9781 - val_loss: 0.1153 - val_accuracy: 0.9728 - 383s/epoch - 2s/step\n",
      "Epoch 13/15\n",
      "188/188 - 406s - loss: 0.1424 - accuracy: 0.9708 - val_loss: 0.0311 - val_accuracy: 0.9888 - 406s/epoch - 2s/step\n",
      "Epoch 14/15\n",
      "188/188 - 369s - loss: 0.0405 - accuracy: 0.9893 - val_loss: 0.0607 - val_accuracy: 0.9824 - 369s/epoch - 2s/step\n",
      "Epoch 15/15\n",
      "188/188 - 375s - loss: 0.0306 - accuracy: 0.9923 - val_loss: 0.0860 - val_accuracy: 0.9776 - 375s/epoch - 2s/step\n"
     ]
    }
   ],
   "source": [
    "history = model_f11_7_3_drop.fit(train_dataset, \n",
    "                    validation_data=validation_dataset,\n",
    "                    epochs=15,\n",
    "                    verbose=2)"
   ]
  },
  {
   "cell_type": "code",
   "execution_count": 65,
   "id": "91416aeb",
   "metadata": {},
   "outputs": [],
   "source": [
    "model_f11_7_3_drop.save(\"Symbol_Check_model_f11_7_3_drop.h5\")"
   ]
  },
  {
   "cell_type": "code",
   "execution_count": 66,
   "id": "18c48679",
   "metadata": {},
   "outputs": [
    {
     "name": "stdout",
     "output_type": "stream",
     "text": [
      "21/21 [==============================] - 10s 490ms/step - loss: 0.0394 - accuracy: 0.9888\n"
     ]
    }
   ],
   "source": [
    "scores = model_f11_7_3_drop.evaluate(test_dataset, verbose=1)"
   ]
  },
  {
   "cell_type": "code",
   "execution_count": 67,
   "id": "01f3cc69",
   "metadata": {},
   "outputs": [
    {
     "data": {
      "image/png": "[encoded data removed]",
      "text/plain": [
       "<Figure size 432x288 with 1 Axes>"
      ]
     },
     "metadata": {
      "needs_background": "light"
     },
     "output_type": "display_data"
    }
   ],
   "source": [
    "plt.plot(history.history['accuracy'], \n",
    "         label='Доля верных ответов на обучающем наборе')\n",
    "plt.plot(history.history['val_accuracy'], \n",
    "         label='Доля верных ответов на проверочном наборе')\n",
    "plt.xlabel('Эпоха обучения')\n",
    "plt.ylabel('Доля верных ответов')\n",
    "plt.legend()\n",
    "plt.show()"
   ]
  },
  {
   "cell_type": "code",
   "execution_count": 68,
   "id": "9f6947ef",
   "metadata": {},
   "outputs": [
    {
     "data": {
      "image/png": "[encoded data removed]",
      "text/plain": [
       "<Figure size 432x288 with 1 Axes>"
      ]
     },
     "metadata": {
      "needs_background": "light"
     },
     "output_type": "display_data"
    }
   ],
   "source": [
    "plt.plot(history.history['loss'], \n",
    "         label='Ошибка на обучающем наборе')\n",
    "plt.plot(history.history['val_loss'], \n",
    "         label='Ошибка на проверочном наборе')\n",
    "plt.xlabel('Эпоха обучения')\n",
    "plt.ylabel('Ошибка')\n",
    "plt.legend()\n",
    "plt.show()"
   ]
  },
  {
   "cell_type": "code",
   "execution_count": null,
   "id": "02f3744b",
   "metadata": {},
   "outputs": [],
   "source": [
    "\n"
   ]
  },
  {
   "cell_type": "code",
   "execution_count": null,
   "id": "b451e993",
   "metadata": {},
   "outputs": [],
   "source": []
  }
 ],
 "metadata": {
  "kernelspec": {
   "display_name": "Python 3 (ipykernel)",
   "language": "python",
   "name": "python3"
  },
  "language_info": {
   "codemirror_mode": {
    "name": "ipython",
    "version": 3
   },
   "file_extension": ".py",
   "mimetype": "text/x-python",
   "name": "python",
   "nbconvert_exporter": "python",
   "pygments_lexer": "ipython3",
   "version": "3.9.7"
  }
 },
 "nbformat": 4,
 "nbformat_minor": 5
}
