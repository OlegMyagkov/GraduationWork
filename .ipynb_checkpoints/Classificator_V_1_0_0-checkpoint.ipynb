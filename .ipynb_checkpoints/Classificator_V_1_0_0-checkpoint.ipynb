{
 "cells": [
  {
   "cell_type": "code",
   "execution_count": 1,
   "id": "c27bfad5",
   "metadata": {},
   "outputs": [],
   "source": [
    "import os\n",
    "import cv2\n",
    "import numpy as np\n",
    "import tensorflow as tf\n",
    "from tensorflow import keras\n",
    "from tensorflow.keras import layers\n",
    "from tensorflow.keras.models import Sequential\n",
    "from tensorflow.keras.layers import Conv2D, MaxPooling2D, Dense, Flatten, Dropout\n",
    "from tensorflow.keras import utils\n",
    "from tensorflow.keras.preprocessing import image\n",
    "from tensorflow.keras.preprocessing import image_dataset_from_directory\n",
    "from tensorflow.keras.models import load_model\n",
    "from keras.layers import Dense, Conv2D, MaxPool2D , Flatten\n",
    "import matplotlib.pyplot as plt\n",
    "from sklearn.metrics import confusion_matrix, ConfusionMatrixDisplay\n",
    "import pandas as pd\n",
    "%matplotlib inline "
   ]
  },
  {
   "cell_type": "code",
   "execution_count": 2,
   "id": "8a93db07",
   "metadata": {},
   "outputs": [],
   "source": [
    "batch_size=30\n",
    "image_size=(128, 128)"
   ]
  },
  {
   "cell_type": "code",
   "execution_count": 3,
   "id": "0a8c0cef",
   "metadata": {},
   "outputs": [
    {
     "name": "stdout",
     "output_type": "stream",
     "text": [
      "Found 6243 files belonging to 208 classes.\n",
      "Using 5619 files for training.\n"
     ]
    }
   ],
   "source": [
    "train_dataset = image_dataset_from_directory('./traning_set',\n",
    "                                             subset='training',\n",
    "                                             seed=42,\n",
    "                                             validation_split=0.1,\n",
    "                                             batch_size=batch_size,\n",
    "                                             image_size=image_size,\n",
    "                                             color_mode=\"grayscale\")"
   ]
  },
  {
   "cell_type": "code",
   "execution_count": 4,
   "id": "d4cd06b9",
   "metadata": {},
   "outputs": [
    {
     "name": "stdout",
     "output_type": "stream",
     "text": [
      "Found 6243 files belonging to 208 classes.\n",
      "Using 624 files for validation.\n"
     ]
    }
   ],
   "source": [
    "validation_dataset = image_dataset_from_directory('./traning_set',\n",
    "                                             subset='validation',\n",
    "                                             seed=42,\n",
    "                                             validation_split=0.1,\n",
    "                                             batch_size=batch_size,\n",
    "                                             image_size=image_size,\n",
    "                                             color_mode=\"grayscale\")"
   ]
  },
  {
   "cell_type": "code",
   "execution_count": 7,
   "id": "95f20f16",
   "metadata": {},
   "outputs": [],
   "source": [
    "class_names = train_dataset.class_names\n"
   ]
  },
  {
   "cell_type": "code",
   "execution_count": 8,
   "id": "ffbb21d9",
   "metadata": {},
   "outputs": [],
   "source": [
    "import csv \n",
    "\n",
    "with open(\"class_names.csv\", \"w\", newline='') as file:\n",
    "    csv.writer(file).writerow(class_names)"
   ]
  },
  {
   "cell_type": "code",
   "execution_count": 10,
   "id": "c2f4bbf9",
   "metadata": {},
   "outputs": [
    {
     "name": "stdout",
     "output_type": "stream",
     "text": [
      "Found 627 files belonging to 208 classes.\n"
     ]
    }
   ],
   "source": [
    "test_dataset = image_dataset_from_directory('./test_set',\n",
    "                                             seed=42, \n",
    "                                            batch_size=batch_size,\n",
    "                                             image_size=image_size,\n",
    "                                             color_mode=\"grayscale\")\n"
   ]
  },
  {
   "cell_type": "code",
   "execution_count": 11,
   "id": "8f33dec8",
   "metadata": {},
   "outputs": [],
   "source": [
    "AUTOTUNE = tf.data.experimental.AUTOTUNE\n",
    "\n",
    "train_dataset = train_dataset.prefetch(buffer_size=AUTOTUNE)\n",
    "validation_dataset = validation_dataset.prefetch(buffer_size=AUTOTUNE)\n",
    "test_dataset = test_dataset.prefetch(buffer_size=AUTOTUNE)"
   ]
  },
  {
   "cell_type": "code",
   "execution_count": 12,
   "id": "afad43f7",
   "metadata": {},
   "outputs": [
    {
     "name": "stdout",
     "output_type": "stream",
     "text": [
      "Model: \"sequential\"\n",
      "_________________________________________________________________\n",
      " Layer (type)                Output Shape              Param #   \n",
      "=================================================================\n",
      " conv2d (Conv2D)             (None, 128, 128, 16)      1952      \n",
      "                                                                 \n",
      " max_pooling2d (MaxPooling2D  (None, 64, 64, 16)       0         \n",
      " )                                                               \n",
      "                                                                 \n",
      " conv2d_1 (Conv2D)           (None, 64, 64, 32)        25120     \n",
      "                                                                 \n",
      " max_pooling2d_1 (MaxPooling  (None, 32, 32, 32)       0         \n",
      " 2D)                                                             \n",
      "                                                                 \n",
      " conv2d_2 (Conv2D)           (None, 32, 32, 64)        18496     \n",
      "                                                                 \n",
      " max_pooling2d_2 (MaxPooling  (None, 16, 16, 64)       0         \n",
      " 2D)                                                             \n",
      "                                                                 \n",
      " flatten (Flatten)           (None, 16384)             0         \n",
      "                                                                 \n",
      " dense (Dense)               (None, 512)               8389120   \n",
      "                                                                 \n",
      " dropout (Dropout)           (None, 512)               0         \n",
      "                                                                 \n",
      " dense_1 (Dense)             (None, 208)               106704    \n",
      "                                                                 \n",
      "=================================================================\n",
      "Total params: 8,541,392\n",
      "Trainable params: 8,541,392\n",
      "Non-trainable params: 0\n",
      "_________________________________________________________________\n"
     ]
    }
   ],
   "source": [
    "# Создаем последовательную модель\n",
    "model_f11_7_3_drop = Sequential()\n",
    "# Сверточный слой\n",
    "model_f11_7_3_drop.add(Conv2D(16, (11, 11), padding='same', \n",
    "                 input_shape=(128, 128, 1), activation='relu'))\n",
    "# Слой подвыборки\n",
    "model_f11_7_3_drop.add(MaxPooling2D(pool_size=(2, 2)))\n",
    "# Сверточный слой\n",
    "model_f11_7_3_drop.add(Conv2D(32, (7, 7), padding='same', \n",
    "                 input_shape=(128, 128, 1), activation='relu'))\n",
    "# Слой подвыборки\n",
    "model_f11_7_3_drop.add(MaxPooling2D(pool_size=(2, 2)))\n",
    "# Сверточный слой\n",
    "model_f11_7_3_drop.add(Conv2D(64, (3, 3), padding='same', \n",
    "                 input_shape=(128, 128, 1), activation='relu'))\n",
    "# Слой подвыборки\n",
    "model_f11_7_3_drop.add(MaxPooling2D(pool_size=(2, 2)))\n",
    "# Полносвязная часть нейронной сети для классификации\n",
    "model_f11_7_3_drop.add(Flatten())\n",
    "model_f11_7_3_drop.add(Dense(512, activation='relu'))\n",
    "model_f11_7_3_drop.add(Dropout(0.1))\n",
    "# Выходной слой, 208 нейронов по количеству классов\n",
    "model_f11_7_3_drop.add(Dense(208, activation='softmax'))\n",
    "model_f11_7_3_drop.summary()"
   ]
  },
  {
   "cell_type": "code",
   "execution_count": 13,
   "id": "40d94a0c",
   "metadata": {},
   "outputs": [],
   "source": [
    "model_f11_7_3_drop.compile(loss='sparse_categorical_crossentropy',\n",
    "              optimizer=\"adam\",\n",
    "              metrics=['accuracy'])"
   ]
  },
  {
   "cell_type": "code",
   "execution_count": null,
   "id": "3f481536",
   "metadata": {},
   "outputs": [],
   "source": [
    "history = model_f11_7_3_drop.fit(train_dataset, \n",
    "                    validation_data=validation_dataset,\n",
    "                    epochs=1,\n",
    "                    verbose=2)"
   ]
  },
  {
   "cell_type": "code",
   "execution_count": null,
   "id": "657ffc54",
   "metadata": {},
   "outputs": [],
   "source": [
    "model_f11_7_3_drop.save(\"Symbol_Check_model_f11_7_3_drop.h5\")"
   ]
  },
  {
   "cell_type": "code",
   "execution_count": null,
   "id": "8ad63506",
   "metadata": {},
   "outputs": [],
   "source": [
    "scores = model_f11_7_3_drop.evaluate(test_dataset, verbose=1)"
   ]
  }
 ],
 "metadata": {
  "kernelspec": {
   "display_name": "Python 3 (ipykernel)",
   "language": "python",
   "name": "python3"
  },
  "language_info": {
   "codemirror_mode": {
    "name": "ipython",
    "version": 3
   },
   "file_extension": ".py",
   "mimetype": "text/x-python",
   "name": "python",
   "nbconvert_exporter": "python",
   "pygments_lexer": "ipython3",
   "version": "3.9.7"
  }
 },
 "nbformat": 4,
 "nbformat_minor": 5
}
