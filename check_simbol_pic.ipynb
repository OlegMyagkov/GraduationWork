{
 "cells": [
  {
   "cell_type": "code",
   "execution_count": 1,
   "id": "0845c9d8",
   "metadata": {},
   "outputs": [],
   "source": [
    "import csv\n",
    "import os\n",
    "import cv2\n",
    "import numpy as np\n",
    "import pandas as pd\n",
    "import tensorflow as tf\n",
    "from tensorflow import keras\n",
    "from tensorflow.keras import layers\n",
    "from tensorflow.keras.models import Sequential\n",
    "from tensorflow.keras.layers import Conv2D, MaxPooling2D, Dense, Flatten, Dropout\n",
    "from tensorflow.keras import utils\n",
    "from tensorflow.keras.preprocessing import image\n",
    "from tensorflow.keras.preprocessing import image_dataset_from_directory\n",
    "from tensorflow.keras.models import load_model\n",
    "from keras.layers import Dense, Conv2D, MaxPool2D , Flatten\n",
    "import matplotlib.pyplot as plt\n",
    "import imageio\n",
    "import imgaug as ia\n",
    "from imgaug import augmenters as iaa\n",
    "import re \n",
    "%matplotlib inline "
   ]
  },
  {
   "cell_type": "code",
   "execution_count": 2,
   "id": "f859c7f4",
   "metadata": {
    "scrolled": false
   },
   "outputs": [
    {
     "name": "stdout",
     "output_type": "stream",
     "text": [
      "\n",
      "Введите путь до библиотеки: D_CELLS_TL\n",
      "\n",
      "Введите суффикс для библиотеки: TL\n",
      "\n",
      "Вызывает подозрение ячейка: INVTLX1--->INTL\n",
      "\n",
      "Вызывает подозрение ячейка: TAPCONTCELL3--->FEEDTL\n",
      "\n",
      "Вызывает подозрение ячейка: WELLTAP3--->FEEDTL\n",
      "\n",
      "Обнаружено подозрительных ячеек: 3\n",
      "\n",
      "Имена ячеек вызывающих подозрение, сохранены в файл: C:\\Users\\Administrator\\Documents\\GitHub\\GraduationWork\\errors.txt\n",
      "\n",
      "Всего ячеек обработано: 358\n"
     ]
    }
   ],
   "source": [
    "os.chdir(\"C:/Users/Administrator/Documents/GitHub/GraduationWork\")\n",
    "wdir = os.getcwd()\n",
    "lib_path = input(\"\\nВведите путь до библиотеки: \")\n",
    "sfx = input(\"\\nВведите суффикс для библиотеки: \")\n",
    "#print(\"сейчас тут: \" + wdir)\n",
    "#os.chdir(\"./GitHub\")\n",
    "os.chdir(lib_path)\n",
    "d_set = os.getcwd()\n",
    "loaded_model = load_model('../Symbol_Check_model_f7_5_3_drop.h5')\n",
    "all_cells = []\n",
    "errors = []\n",
    "k=0\n",
    "m=0\n",
    "exeption_cell = np.loadtxt(\"../exeption.csv\", delimiter=\",\", dtype='str')\n",
    "class_names = np.loadtxt(\"../class_names.csv\", delimiter=\",\", dtype='str')\n",
    "#print(\"теперь тут: \" + d_set)\n",
    "for cell in os.listdir():     \n",
    "       if os.path.isdir(cell): \n",
    "            k=k+1\n",
    "            cell_s =re.sub(sfx + \"X\\d+\", \"\", cell)\n",
    "            for e_cell in exeption_cell:                \n",
    "                if re.search(e_cell, cell):\n",
    "                    cell_s = e_cell            \n",
    "                if cell_s == \"DECAP\":\n",
    "                    cell_s = \"FCNE\"\n",
    "                if (cell_s == \"STE\" or cell_s == \"CLKVBUF\" or cell_s == \"DLY\" or cell_s == \"BUF\"):\n",
    "                    cell_s = \"BU\"\n",
    "                if (cell_s == \"ANTENNACELLN2\" or cell_s == \"ANTENNACELLP2\"):\n",
    "                    cell_s = \"ANTENNACELL\"    \n",
    "            #print(cell+\"--->\"+cell_s)\n",
    "            image = imageio.imread(os.getcwd()+\"/\"+cell+\"/symbol/thumbnail_128x128.png\")\n",
    "            image = cv2.cvtColor(image, cv2.COLOR_BGR2GRAY)\n",
    "            ret, image = cv2.threshold(image, 20, 255, 0)\n",
    "            ret, image_inv = cv2.threshold(image, 20, 255, cv2.THRESH_BINARY_INV)\n",
    "            #ia.imshow(image_inv)\n",
    "            x = np.array([image_inv])\n",
    "            prediction = loaded_model.predict(x)\n",
    "            prediction = np.argmax(prediction)\n",
    "            if cell_s != class_names[prediction]:                \n",
    "                print(\"\\nВызывает подозрение ячейка: \"+ cell+\"--->\"+class_names[prediction]+sfx)\n",
    "                errors.append(cell)\n",
    "                m = m + 1\n",
    "my_file = open(\"../errors.txt\", \"w\")\n",
    "for  error in errors:\n",
    "    my_file.write(error + '\\n')\n",
    "my_file.close()\n",
    "print(\"\\nОбнаружено подозрительных ячеек: \"+ str(m))\n",
    "print(\"\\nИмена ячеек вызывающих подозрение, сохранены в файл: \"+ wdir + \"\\errors.txt\")\n",
    "print(\"\\nВсего ячеек обработано: \"+ str(k))"
   ]
  },
  {
   "cell_type": "code",
   "execution_count": null,
   "id": "4870d329",
   "metadata": {},
   "outputs": [],
   "source": []
  },
  {
   "cell_type": "code",
   "execution_count": null,
   "id": "c983f48a",
   "metadata": {},
   "outputs": [],
   "source": []
  }
 ],
 "metadata": {
  "kernelspec": {
   "display_name": "Python 3 (ipykernel)",
   "language": "python",
   "name": "python3"
  },
  "language_info": {
   "codemirror_mode": {
    "name": "ipython",
    "version": 3
   },
   "file_extension": ".py",
   "mimetype": "text/x-python",
   "name": "python",
   "nbconvert_exporter": "python",
   "pygments_lexer": "ipython3",
   "version": "3.9.7"
  }
 },
 "nbformat": 4,
 "nbformat_minor": 5
}
